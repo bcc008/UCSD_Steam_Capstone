{
 "cells": [
  {
   "cell_type": "code",
   "execution_count": 1,
   "metadata": {},
   "outputs": [],
   "source": [
    "import json\n",
    "import pickle\n",
    "import operator\n",
    "import json\n",
    "from collections import Counter, defaultdict\n",
    "import pandas as pd\n",
    "import numpy as np"
   ]
  },
  {
   "cell_type": "markdown",
   "metadata": {},
   "source": [
    "## Load files"
   ]
  },
  {
   "cell_type": "code",
   "execution_count": 3,
   "metadata": {},
   "outputs": [],
   "source": [
    "aussie_items = json.load(open('./data/fixed/australian_users_items_fixed.json','r'))\n",
    "steam_games = json.load(open('./data/fixed/steam_games_fixed.json','r'))"
   ]
  },
  {
   "cell_type": "markdown",
   "metadata": {},
   "source": [
    "## Create User-Item Matrix"
   ]
  },
  {
   "cell_type": "code",
   "execution_count": 4,
   "metadata": {},
   "outputs": [],
   "source": [
    "def build_list(user_item_data):\n",
    "    user_item = []\n",
    "    for user in user_item_data:\n",
    "        for item in user['items']:\n",
    "            user_item.append((user['user_id'],item['item_name']))\n",
    "    return user_item"
   ]
  },
  {
   "cell_type": "code",
   "execution_count": 5,
   "metadata": {},
   "outputs": [],
   "source": [
    "def build_df(user_item):\n",
    "    df = pd.DataFrame(user_item,columns=['user','item'])\n",
    "    df = df.drop_duplicates(['user','item'])\n",
    "    df['own'] = 1\n",
    "    df = df.pivot(index='user',columns='item',values='own')\n",
    "    df = df.fillna(0)\n",
    "    return df"
   ]
  },
  {
   "cell_type": "code",
   "execution_count": 6,
   "metadata": {},
   "outputs": [],
   "source": [
    "user_item = build_list(aussie_items)\n",
    "user_item_df = build_df(user_item)"
   ]
  },
  {
   "cell_type": "markdown",
   "metadata": {},
   "source": [
    "## Filter game functions"
   ]
  },
  {
   "cell_type": "code",
   "execution_count": 8,
   "metadata": {},
   "outputs": [],
   "source": [
    "## Filter by owned by percentage of all users\n",
    "\n",
    "def filter_percentage(user_item, percentage=0.02):\n",
    "    item_count = [i[1] for i in user_item]\n",
    "    user_count = len({i[0] for i in user_item})\n",
    "    item_percentages = {k:v/user_count for k,v in Counter(item_count).items()}\n",
    "    filtered_games = [k for k,v in item_percentages.items() if v > percentage]\n",
    "    filtered_user_item = [i for i in user_item if i[1] in filtered_games]\n",
    "    return filtered_user_item"
   ]
  },
  {
   "cell_type": "code",
   "execution_count": 9,
   "metadata": {},
   "outputs": [],
   "source": [
    "## Filter by most owned games\n",
    "\n",
    "def filter_top_n(user_item, top_n=500):\n",
    "    item_count = [i[1] for i in user_item]\n",
    "    item_sum = sorted({k:v for k,v in Counter(item_count).items()}.items(), key=operator.itemgetter(1), reverse=True)\n",
    "    filtered_games = [i[0] for i in item_sum[0:top_n]]\n",
    "    filtered_user_item = [i for i in user_item if i[1] in filtered_games]\n",
    "    return filtered_user_item"
   ]
  },
  {
   "cell_type": "markdown",
   "metadata": {},
   "source": [
    "## Save User_Item list"
   ]
  },
  {
   "cell_type": "code",
   "execution_count": 14,
   "metadata": {},
   "outputs": [],
   "source": [
    "user_item_filter_t1000 = filter_top_n(user_item,1000)\n",
    "with open('./data/saved/user_item_filter_t1000.json','w') as file:\n",
    "    json.dump(user_item_filter_t1000, file)"
   ]
  },
  {
   "cell_type": "code",
   "execution_count": 13,
   "metadata": {},
   "outputs": [],
   "source": [
    "user_item_filter_t500 = filter_top_n(user_item,500)\n",
    "with open('./data/saved/user_item_filter_t500.json','w') as file:\n",
    "    json.dump(user_item_filter_t500, file)"
   ]
  }
 ],
 "metadata": {
  "kernelspec": {
   "display_name": "Python 3",
   "language": "python",
   "name": "python3"
  },
  "language_info": {
   "codemirror_mode": {
    "name": "ipython",
    "version": 3
   },
   "file_extension": ".py",
   "mimetype": "text/x-python",
   "name": "python",
   "nbconvert_exporter": "python",
   "pygments_lexer": "ipython3",
   "version": "3.7.2"
  }
 },
 "nbformat": 4,
 "nbformat_minor": 2
}
