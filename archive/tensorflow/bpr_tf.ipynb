{
 "cells": [
  {
   "cell_type": "code",
   "execution_count": 1,
   "metadata": {},
   "outputs": [],
   "source": [
    "import numpy as np\n",
    "import pandas as pd\n",
    "import tensorflow as tf\n",
    "import pickle\n",
    "import os\n",
    "import random\n",
    "from collections import defaultdict"
   ]
  },
  {
   "cell_type": "markdown",
   "metadata": {},
   "source": [
    "## Generate User_Ratings"
   ]
  },
  {
   "cell_type": "code",
   "execution_count": 2,
   "metadata": {},
   "outputs": [],
   "source": [
    "data_path = './data/saved/user_item_filter_t1000.json'\n",
    "df = pd.read_json(data_path)"
   ]
  },
  {
   "cell_type": "code",
   "execution_count": null,
   "metadata": {},
   "outputs": [],
   "source": [
    "def generate_user_ratings(df):\n",
    "    '''\n",
    "    As for bpr experiment, all ratings are removed.\n",
    "    '''\n",
    "    user_ratings = defaultdict(set)\n",
    "    df_t = df.T\n",
    "    df_t = df_t.loc[:, (df_t != 0).any(axis=0)]\n",
    "    for column in df_t:\n",
    "        games_owned = set(df_t.loc[df_t[column] == 1].index)\n",
    "        user_ratings[column] = games_owned\n",
    "    user_count = df_t.shape[1]\n",
    "    item_count = df_t.shape[0]\n",
    "    return user_ratings\n",
    "\n",
    "user_ratings = generate_user_ratings(df)\n",
    "\n",
    "with open('./data/saved/user_ratings.pkl', 'wb') as file:\n",
    "    pickle.dump(user_ratings,file)"
   ]
  },
  {
   "cell_type": "markdown",
   "metadata": {},
   "source": [
    "## Reload Data"
   ]
  },
  {
   "cell_type": "code",
   "execution_count": 3,
   "metadata": {},
   "outputs": [],
   "source": [
    "user_ratings = pickle.load(open('./data/saved/user_ratings.pkl','rb'))"
   ]
  },
  {
   "cell_type": "markdown",
   "metadata": {},
   "source": [
    "## Data Preprocessing"
   ]
  },
  {
   "cell_type": "code",
   "execution_count": 98,
   "metadata": {},
   "outputs": [],
   "source": [
    "def generate_counts(df):\n",
    "    user_count = df.shape[0]\n",
    "    item_count = df.shape[1]\n",
    "    return user_count, item_count\n",
    "\n",
    "user_count, item_count = generate_counts(df)"
   ]
  },
  {
   "cell_type": "code",
   "execution_count": 99,
   "metadata": {},
   "outputs": [],
   "source": [
    "def generate_test(user_ratings):\n",
    "    '''\n",
    "    for each user, random select one of his(her) rating into test set\n",
    "    '''\n",
    "    user_test = dict()\n",
    "    for u, i_list in user_ratings.items():\n",
    "        if len(user_ratings[u]) > 1:\n",
    "            user_test[u] = random.sample(user_ratings[u], 1)[0]\n",
    "    return user_test\n",
    "\n",
    "user_ratings_test = generate_test(user_ratings)"
   ]
  },
  {
   "cell_type": "code",
   "execution_count": 100,
   "metadata": {},
   "outputs": [],
   "source": [
    "def list_games(df):\n",
    "    games = set(df.columns)\n",
    "    return games\n",
    "\n",
    "all_games = list_games(df)"
   ]
  },
  {
   "cell_type": "code",
   "execution_count": 101,
   "metadata": {},
   "outputs": [],
   "source": [
    "def create_user_item_indices(df):\n",
    "    user_dict = {}\n",
    "    i = 0\n",
    "    for u in df.index:\n",
    "        user_dict[u] = i\n",
    "        i += 1\n",
    "    item_dict = {}\n",
    "    j = 0\n",
    "    for g in df.columns:\n",
    "        item_dict[g] = j\n",
    "        j += 1\n",
    "    return user_dict, item_dict\n",
    "\n",
    "user_dict, item_dict = create_user_item_indices(df)"
   ]
  },
  {
   "cell_type": "code",
   "execution_count": 102,
   "metadata": {},
   "outputs": [],
   "source": [
    "def generate_train_batch(user_ratings, user_ratings_test, batch_size=512):\n",
    "    '''\n",
    "    uniform sampling (user, item_rated, item_not_rated)\n",
    "    '''\n",
    "    t = []\n",
    "    for b in range(batch_size):\n",
    "        u = random.sample(user_ratings.keys(), 1)[0]\n",
    "        i = random.sample(user_ratings[u], 1)[0]\n",
    "        if len(user_ratings[u]) == 1:\n",
    "            continue\n",
    "        else:\n",
    "            while i == user_ratings_test[u]:\n",
    "                i = random.sample(user_ratings[u], 1)[0]\n",
    "        j = random.sample(all_games, 1)[0]\n",
    "        while j in user_ratings[u]:\n",
    "            j = random.sample(all_games, 1)[0]\n",
    "        t.append([user_dict[u], item_dict[i], item_dict[j]])\n",
    "    return np.asarray(t)\n",
    "\n",
    "def generate_test_batch(user_ratings, user_ratings_test):\n",
    "    '''\n",
    "    for an user u and an item i rated by u, \n",
    "    generate pairs (u,i,j) for all item j which u has't rated\n",
    "    it's convinent for computing AUC score for u\n",
    "    '''\n",
    "    for u in user_ratings_test.keys():\n",
    "        t = []\n",
    "        i = user_ratings_test[u]\n",
    "        for j in all_games:\n",
    "            if not (j in user_ratings[u]):\n",
    "                t.append([user_dict[u], item_dict[i], item_dict[j]])\n",
    "        yield np.asarray(t)"
   ]
  },
  {
   "cell_type": "code",
   "execution_count": 103,
   "metadata": {},
   "outputs": [],
   "source": [
    "uij = generate_train_batch(user_ratings, user_ratings_test)"
   ]
  },
  {
   "cell_type": "markdown",
   "metadata": {},
   "source": [
    "## BPR model"
   ]
  },
  {
   "cell_type": "code",
   "execution_count": 104,
   "metadata": {},
   "outputs": [],
   "source": [
    "def bpr_mf(user_count, item_count, hidden_dim):\n",
    "    u = tf.placeholder(tf.int32, [None])\n",
    "    i = tf.placeholder(tf.int32, [None])\n",
    "    j = tf.placeholder(tf.int32, [None])\n",
    "\n",
    "    with tf.device(\"/cpu:0\"):\n",
    "        user_emb_w = tf.get_variable(\"user_emb_w\", [user_count, hidden_dim], \n",
    "                            initializer=tf.random_normal_initializer(0, 0.1))\n",
    "        item_emb_w = tf.get_variable(\"item_emb_w\", [item_count, hidden_dim], \n",
    "                                initializer=tf.random_normal_initializer(0, 0.1))\n",
    "        item_b = tf.get_variable(\"item_b\", [item_count+1, 1], \n",
    "                                initializer=tf.constant_initializer(0.0))\n",
    "        \n",
    "        u_emb = tf.nn.embedding_lookup(user_emb_w, u)\n",
    "        i_emb = tf.nn.embedding_lookup(item_emb_w, i)\n",
    "        i_b = tf.nn.embedding_lookup(item_b, i)\n",
    "        j_emb = tf.nn.embedding_lookup(item_emb_w, j)\n",
    "        j_b = tf.nn.embedding_lookup(item_b, j)\n",
    "    \n",
    "    # MF predict: u_i > u_j\n",
    "    x = i_b - j_b + tf.reduce_sum(tf.multiply(u_emb, (i_emb - j_emb)), 1, keepdims=True)\n",
    "    \n",
    "    # AUC for one user:\n",
    "    # reasonable iff all (u,i,j) pairs are from the same user\n",
    "    # \n",
    "    # average AUC = mean( auc for each user in test set)\n",
    "    mf_auc = tf.reduce_mean(tf.cast(x > 0, tf.float32))\n",
    "    \n",
    "    l2_norm = tf.add_n([\n",
    "            tf.reduce_sum(tf.multiply(u_emb, u_emb)), \n",
    "            tf.reduce_sum(tf.multiply(i_emb, i_emb)),\n",
    "            tf.reduce_sum(tf.multiply(j_emb, j_emb))\n",
    "        ])\n",
    "    \n",
    "    regulation_rate = 0.0001\n",
    "    bprloss = regulation_rate * l2_norm - tf.reduce_mean(tf.log(tf.sigmoid(x)))\n",
    "    \n",
    "    train_op = tf.train.GradientDescentOptimizer(0.01).minimize(bprloss)\n",
    "    return u, i, j, mf_auc, bprloss, train_op"
   ]
  },
  {
   "cell_type": "markdown",
   "metadata": {},
   "source": [
    "## Train and Test"
   ]
  },
  {
   "cell_type": "code",
   "execution_count": 105,
   "metadata": {},
   "outputs": [
    {
     "name": "stdout",
     "output_type": "stream",
     "text": [
      "epoch:  1\n",
      "bpr_loss:  0.7465756655455351\n",
      "test_loss:  0.7145543 test_auc:  0.6137979265968185\n",
      "\n",
      "epoch:  2\n",
      "bpr_loss:  0.7350447830017861\n",
      "test_loss:  0.7104371 test_auc:  0.6614741690194178\n",
      "\n",
      "epoch:  3\n",
      "bpr_loss:  0.7243671677969359\n",
      "test_loss:  0.70648265 test_auc:  0.6912428616941262\n",
      "\n",
      "epoch:  4\n",
      "bpr_loss:  0.714773994845313\n",
      "test_loss:  0.70251167 test_auc:  0.7125558887894933\n",
      "\n",
      "epoch:  5\n",
      "bpr_loss:  0.7055912030351771\n",
      "test_loss:  0.6984614 test_auc:  0.7286598914160086\n",
      "\n",
      "epoch:  6\n",
      "bpr_loss:  0.6971663386375457\n",
      "test_loss:  0.6946807 test_auc:  0.7412474658486381\n",
      "\n",
      "epoch:  7\n",
      "bpr_loss:  0.6893177674458669\n",
      "test_loss:  0.6910745 test_auc:  0.7512846780581909\n",
      "\n",
      "epoch:  8\n",
      "bpr_loss:  0.6820563679939514\n",
      "test_loss:  0.6872815 test_auc:  0.7594219256136402\n",
      "\n",
      "epoch:  9\n",
      "bpr_loss:  0.6753572800734619\n",
      "test_loss:  0.6836307 test_auc:  0.7660934601053838\n",
      "\n",
      "epoch:  10\n",
      "bpr_loss:  0.6689126338806\n",
      "test_loss:  0.6799412 test_auc:  0.7716959252266119\n",
      "\n"
     ]
    }
   ],
   "source": [
    "with tf.Graph().as_default(), tf.Session() as session:\n",
    "    u, i, j, mf_auc, bprloss, train_op = bpr_mf(user_count, item_count, 20)\n",
    "    session.run(tf.global_variables_initializer())\n",
    "    for epoch in range(1, 11):\n",
    "        _batch_bprloss = 0\n",
    "        for k in range(1, 1000): # uniform samples from training set\n",
    "            uij = generate_train_batch(user_ratings, user_ratings_test, 2048)\n",
    "\n",
    "            _bprloss, _ = session.run([bprloss, train_op], \n",
    "                                feed_dict={u:uij[:,0], i:uij[:,1], j:uij[:,2]})\n",
    "            _batch_bprloss += _bprloss\n",
    "        \n",
    "        print (\"epoch: \", epoch)\n",
    "        print (\"bpr_loss: \", _batch_bprloss / k)\n",
    "\n",
    "        user_count = 0\n",
    "        _auc_sum = 0.0\n",
    "\n",
    "        # each batch will return only one user's auc\n",
    "        for t_uij in generate_test_batch(user_ratings, user_ratings_test):\n",
    "\n",
    "            _auc, _test_bprloss = session.run([mf_auc, bprloss],\n",
    "                                    feed_dict={u:t_uij[:,0], i:t_uij[:,1], j:t_uij[:,2]}\n",
    "                                )\n",
    "            user_count += 1\n",
    "            _auc_sum += _auc\n",
    "        print (\"test_loss: \", _test_bprloss, \"test_auc: \", _auc_sum/user_count)\n",
    "        print (\"\")"
   ]
  }
 ],
 "metadata": {
  "kernelspec": {
   "display_name": "Python 3",
   "language": "python",
   "name": "python3"
  },
  "language_info": {
   "codemirror_mode": {
    "name": "ipython",
    "version": 3
   },
   "file_extension": ".py",
   "mimetype": "text/x-python",
   "name": "python",
   "nbconvert_exporter": "python",
   "pygments_lexer": "ipython3",
   "version": "3.7.1"
  }
 },
 "nbformat": 4,
 "nbformat_minor": 2
}
