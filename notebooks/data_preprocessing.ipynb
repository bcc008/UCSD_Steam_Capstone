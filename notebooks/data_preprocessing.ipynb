{
 "cells": [
  {
   "cell_type": "code",
   "execution_count": 1,
   "metadata": {},
   "outputs": [],
   "source": [
    "import json\n",
    "import pickle as pkl\n",
    "import operator\n",
    "import time\n",
    "from collections import Counter\n",
    "from itertools import product\n",
    "import random\n",
    "\n",
    "import pandas as pd\n",
    "from pandas.io.json import json_normalize\n",
    "import numpy as np\n",
    "import scipy\n",
    "from scipy.sparse import csr_matrix\n",
    "from sklearn.model_selection import train_test_split, StratifiedKFold\n",
    "\n",
    "from lightfm import LightFM\n",
    "from lightfm.evaluation import precision_at_k\n",
    "from lightfm.evaluation import recall_at_k\n",
    "from lightfm.evaluation import auc_score\n",
    "from lightfm.evaluation import reciprocal_rank\n",
    "\n",
    "%run '../lib/cookbook/recsys.py'\n",
    "%run '../lib/cookbook/generic_preprocessing.py'\n",
    "%run '../lib/utility.py'\n",
    "\n",
    "from IPython.display import HTML ## Setting display options for Ipython Notebook"
   ]
  },
  {
   "cell_type": "markdown",
   "metadata": {},
   "source": [
    "# Data Preprocessing"
   ]
  },
  {
   "cell_type": "code",
   "execution_count": 2,
   "metadata": {},
   "outputs": [],
   "source": [
    "def filter_by_hours_played(path,minutes_played=None,percentile=None):\n",
    "    with open(path) as f:\n",
    "        df_items = json.load(f)    \n",
    "    parsed_items = json_normalize(data=df_items, \n",
    "                                  record_path='items', \n",
    "                                  meta=['items_count','steam_id','user_id','user_url'])\n",
    "    if minutes_played != None:\n",
    "        parsed_items = parsed_items[parsed_items.playtime_forever > minutes_played]\n",
    "    if percentile != None:\n",
    "        quantiles = parsed_items.groupby('item_name')['playtime_forever'].quantile(q=percentile)\n",
    "        parsed_items = pd.merge(parsed_items, pd.DataFrame(quantiles), how='left', left_on='item_name', right_index=True)\n",
    "        parsed_items = parsed_items.loc[parsed_items['playtime_forever_x'] > parsed_items['playtime_forever_y']]\n",
    "    return parsed_items"
   ]
  },
  {
   "cell_type": "code",
   "execution_count": 3,
   "metadata": {},
   "outputs": [],
   "source": [
    "def isNaN(num):\n",
    "   return num != num\n",
    "\n",
    "def cleanup_price(price):\n",
    "   if isinstance(price, str):\n",
    "       if price.find(\"Free\") > 0 or price.find(\"Demo\") > 0:\n",
    "           return 0\n",
    "   elif isNaN(price) == True:\n",
    "       return 0\n",
    "   else:\n",
    "       return round(price)"
   ]
  },
  {
   "cell_type": "code",
   "execution_count": 4,
   "metadata": {},
   "outputs": [],
   "source": [
    "def build_list(df, games, free_games=False):\n",
    "    game_ids = []\n",
    "    if free_games == False:\n",
    "        game_ids = []\n",
    "        for i in games:\n",
    "            if 'price' in i.keys() and 'id' in i.keys():\n",
    "                price = cleanup_price(i['price'])\n",
    "                if price != None and price > 0:\n",
    "                   game_ids.append(i['id'])\n",
    "        df = df.loc[df['item_id'].isin(game_ids)]\n",
    "        user_items = df[['user_id','item_name']].values.tolist()\n",
    "    if free_games == True:\n",
    "        for i in games:\n",
    "            if 'id' in i.keys():\n",
    "                game_ids.append(i['id'])\n",
    "        df = df.loc[df['item_id'].isin(game_ids)]\n",
    "        user_items = df[['user_id','item_name']].values.tolist()\n",
    "    return user_items, game_ids"
   ]
  },
  {
   "cell_type": "code",
   "execution_count": 5,
   "metadata": {},
   "outputs": [],
   "source": [
    "def build_df(user_item):\n",
    "    df = pd.DataFrame(user_item,columns=['user','item'])\n",
    "    df = df.drop_duplicates(['user','item'])\n",
    "    df['own'] = 1\n",
    "    df = df.pivot(index='user',columns='item',values='own')\n",
    "    df = df.fillna(0)\n",
    "    return df"
   ]
  },
  {
   "cell_type": "code",
   "execution_count": 6,
   "metadata": {},
   "outputs": [],
   "source": [
    "## Filter by most owned games\n",
    "\n",
    "def filter_top_n(user_item_df, n=1000):\n",
    "    top_n = user_item_df.sum().nlargest(n).index\n",
    "    user_top_ngames = user_item_df[top_n].stack().reset_index()\n",
    "    user_top_ngames = user_top_ngames.rename(columns={0:'rating'})\n",
    "    return user_top_ngames"
   ]
  },
  {
   "cell_type": "code",
   "execution_count": 7,
   "metadata": {},
   "outputs": [],
   "source": [
    "def list_games(user_item_df):\n",
    "    games=pd.DataFrame()\n",
    "    games['item']=user_item_df.item.drop_duplicates()\n",
    "    return games"
   ]
  },
  {
   "cell_type": "code",
   "execution_count": 8,
   "metadata": {},
   "outputs": [],
   "source": [
    "def filter_top_n_for_filtered(user_item_df, games):\n",
    "    for column in games.item:\n",
    "        if column not in user_item_df.columns:\n",
    "            user_item_df[column] = 0.0\n",
    "    return filter_top_n(user_item_df[games['item'].tolist()],10000)"
   ]
  },
  {
   "cell_type": "code",
   "execution_count": 9,
   "metadata": {},
   "outputs": [],
   "source": [
    "filtered_hours_items = filter_by_hours_played('../data/fixed/australian_users_items_fixed.json', minutes_played=30)\n",
    "filtered_hours_0_items = filter_by_hours_played('../data/fixed/australian_users_items_fixed.json', minutes_played=0)\n",
    "filtered_percentile_items = filter_by_hours_played('../data/fixed/australian_users_items_fixed.json', percentile=0.10)\n",
    "full_aussie_items = filter_by_hours_played('../data/fixed/australian_users_items_fixed.json')\n",
    "aussie_reviews = json.load(open('../data/fixed/australian_user_reviews_fixed.json','r'))\n",
    "steam_games = json.load(open('../data/fixed/steam_games_fixed.json','r'))"
   ]
  },
  {
   "cell_type": "markdown",
   "metadata": {},
   "source": [
    "### All Games"
   ]
  },
  {
   "cell_type": "code",
   "execution_count": 12,
   "metadata": {},
   "outputs": [],
   "source": [
    "filtered_hours_user_item = build_list(filtered_hours_items, steam_games, free_games=True)\n",
    "filtered_hours_0_user_items = build_list(filtered_hours_0_items, steam_games, free_games=True)\n",
    "filtered_percentile_user_item = build_list(filtered_percentile_items, steam_games, free_games=True)\n",
    "full_user_item = build_list(full_aussie_items, steam_games, free_games=True)\n",
    "\n",
    "filtered_hours_user_item_df = build_df(filtered_hours_user_item)\n",
    "filtered_hours_0_user_item_df = build_df(filtered_hours_0_user_items)\n",
    "filtered_percentile_user_item_df = build_df(filtered_percentile_user_item)\n",
    "full_user_item_df = build_df(full_user_item)"
   ]
  },
  {
   "cell_type": "code",
   "execution_count": 13,
   "metadata": {},
   "outputs": [],
   "source": [
    "user_top_games = filter_top_n(full_user_item_df,1000)\n",
    "games = list_games(user_top_games)\n",
    "user_top_games_filtered_hours = filter_top_n_for_filtered(filtered_hours_user_item_df, games)\n",
    "user_top_games_filtered_hours_0 = filter_top_n_for_filtered(filtered_hours_0_user_item_df, games)\n",
    "user_top_games_filtered_percentile = filter_top_n_for_filtered(filtered_percentile_user_item_df, games)"
   ]
  },
  {
   "cell_type": "code",
   "execution_count": 14,
   "metadata": {},
   "outputs": [],
   "source": [
    "pkl.dump(user_top_games,open('../data/preprocessed_data/all_games/user_top_games.pkl', 'wb'))\n",
    "pkl.dump(user_top_games_filtered_hours,open('../data/preprocessed_data/all_games/user_top_games_filtered_hours.pkl', 'wb'))\n",
    "pkl.dump(user_top_games_filtered_hours_0,open('../data/preprocessed_data/all_games/user_top_games_filtered_hours_0.pkl', 'wb'))\n",
    "pkl.dump(user_top_games_filtered_percentile,open('../data/preprocessed_data/all_games/user_top_games_filtered_percentile.pkl', 'wb'))\n",
    "pkl.dump(games,open('../data/preprocessed_data/all_games/games.pkl', 'wb'))"
   ]
  },
  {
   "cell_type": "markdown",
   "metadata": {},
   "source": [
    "### No Free Games"
   ]
  },
  {
   "cell_type": "code",
   "execution_count": 16,
   "metadata": {},
   "outputs": [],
   "source": [
    "filtered_hours_user_item = build_list(filtered_hours_items, steam_games, free_games=False)\n",
    "filtered_hours_0_user_items = build_list(filtered_hours_0_items, steam_games, free_games=False)\n",
    "filtered_percentile_user_item = build_list(filtered_percentile_items, steam_games, free_games=False)\n",
    "full_user_item = build_list(full_aussie_items, steam_games, free_games=False)\n",
    "\n",
    "filtered_hours_user_item_df = build_df(filtered_hours_user_item)\n",
    "filtered_hours_0_user_item_df = build_df(filtered_hours_0_user_items)\n",
    "filtered_percentile_user_item_df = build_df(filtered_percentile_user_item)\n",
    "full_user_item_df = build_df(full_user_item)"
   ]
  },
  {
   "cell_type": "code",
   "execution_count": 17,
   "metadata": {},
   "outputs": [],
   "source": [
    "user_top_games = filter_top_n(full_user_item_df,1000)\n",
    "games = list_games(user_top_games)\n",
    "user_top_games_filtered_hours = filter_top_n_for_filtered(filtered_hours_user_item_df, games)\n",
    "user_top_games_filtered_hours_0 = filter_top_n_for_filtered(filtered_hours_0_user_item_df, games)\n",
    "user_top_games_filtered_percentile = filter_top_n_for_filtered(filtered_percentile_user_item_df, games)"
   ]
  },
  {
   "cell_type": "code",
   "execution_count": 20,
   "metadata": {},
   "outputs": [],
   "source": [
    "pkl.dump(user_top_games,open('../data/preprocessed_data/no_free_games/user_top_games.pkl', 'wb'))\n",
    "pkl.dump(user_top_games_filtered_hours,open('../data/preprocessed_data/no_free_games/user_top_games_filtered_hours.pkl', 'wb'))\n",
    "pkl.dump(user_top_games_filtered_hours_0,open('../data/preprocessed_data/no_free_games/user_top_games_filtered_hours_0.pkl', 'wb'))\n",
    "pkl.dump(user_top_games_filtered_percentile,open('../data/preprocessed_data/no_free_games/user_top_games_filtered_percentile.pkl', 'wb'))\n",
    "pkl.dump(games,open('../data/preprocessed_data/no_free_games/games.pkl', 'wb'))"
   ]
  }
 ],
 "metadata": {
  "anaconda-cloud": {},
  "kernelspec": {
   "display_name": "Python 3",
   "language": "python",
   "name": "python3"
  },
  "language_info": {
   "codemirror_mode": {
    "name": "ipython",
    "version": 3
   },
   "file_extension": ".py",
   "mimetype": "text/x-python",
   "name": "python",
   "nbconvert_exporter": "python",
   "pygments_lexer": "ipython3",
   "version": "3.7.1"
  }
 },
 "nbformat": 4,
 "nbformat_minor": 2
}
