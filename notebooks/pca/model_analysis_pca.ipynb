{
 "cells": [
  {
   "cell_type": "code",
   "execution_count": null,
   "metadata": {},
   "outputs": [],
   "source": [
    "import json\n",
    "import pickle as pkl\n",
    "import operator\n",
    "import time\n",
    "from collections import Counter\n",
    "from itertools import product\n",
    "import random\n",
    "\n",
    "import pandas as pd\n",
    "from pandas.io.json import json_normalize\n",
    "import numpy as np\n",
    "import scipy\n",
    "from scipy.sparse import csr_matrix\n",
    "from sklearn.model_selection import train_test_split, StratifiedKFold\n",
    "\n",
    "import psycopg2 as pg\n",
    "\n",
    "from lightfm import LightFM\n",
    "from lightfm.evaluation import precision_at_k\n",
    "from lightfm.evaluation import recall_at_k\n",
    "from lightfm.evaluation import auc_score\n",
    "from lightfm.evaluation import reciprocal_rank\n",
    "\n",
    "%run '../lib/cookbook/recsys.py'\n",
    "%run '../lib/cookbook/generic_preprocessing.py'\n",
    "%run '../lib/utility.py'\n",
    "\n",
    "import matplotlib.pyplot as plt\n",
    "from IPython.display import HTML ## Setting display options for Ipython Notebook"
   ]
  },
  {
   "cell_type": "markdown",
   "metadata": {},
   "source": [
    "## Reload Data"
   ]
  },
  {
   "cell_type": "code",
   "execution_count": null,
   "metadata": {},
   "outputs": [],
   "source": [
    "## No Free Games\n",
    "user_top_games = pkl.load(open('../data/preprocessed_data/no_free_games/user_top_games.pkl', 'rb'))\n",
    "user_top_games_filtered_hours = pkl.load(open('../data/preprocessed_data/no_free_games/user_top_games_filtered_hours.pkl', 'rb'))\n",
    "user_top_games_filtered_percentile = pkl.load(open('../data/preprocessed_data/no_free_games/user_top_games_filtered_percentile.pkl', 'rb'))\n",
    "games = pkl.load(open('../data/preprocessed_data/no_free_games/games.pkl', 'rb'))"
   ]
  },
  {
   "cell_type": "code",
   "execution_count": null,
   "metadata": {},
   "outputs": [],
   "source": [
    "action_games = pkl.load(open('../data/preprocessed_data/all_games/action_games.pkl', 'rb'))"
   ]
  },
  {
   "cell_type": "code",
   "execution_count": null,
   "metadata": {},
   "outputs": [],
   "source": [
    "sport_games = pkl.load(open('../data/preprocessed_data/all_games/sport_games.pkl', 'rb'))\n",
    "rpg_games = pkl.load(open('../data/preprocessed_data/all_games/rpg_games.pkl', 'rb'))\n",
    "simulation_games = pkl.load(open('../data/preprocessed_data/all_games/simulation_games.pkl', 'rb'))\n",
    "casual_games = pkl.load(open('../data/preprocessed_data/all_games/casual_games.pkl', 'rb'))"
   ]
  },
  {
   "cell_type": "code",
   "execution_count": null,
   "metadata": {},
   "outputs": [],
   "source": [
    "#Load Steam games of each selected genres\n",
    "game_type = ['Strategy', 'Adventure', 'Indie', 'Racing', 'Singleplayer', 'Classic', 'VR', 'Sci-fi']\n",
    "other_games = []\n",
    "for item in game_type:\n",
    "    tmp = '../data/preprocessed_data/all_games/' + item + '_games.pkl'\n",
    "    other_games.append(pkl.load(open(tmp, 'rb')))"
   ]
  },
  {
   "cell_type": "code",
   "execution_count": null,
   "metadata": {},
   "outputs": [],
   "source": [
    "#Read top 20 recommended games for each user from stored datafile\n",
    "top20_lst = pd.read_csv('../data/fixed/top20_user_titleslist.csv',index_col=None )"
   ]
  },
  {
   "cell_type": "code",
   "execution_count": null,
   "metadata": {},
   "outputs": [],
   "source": [
    "all_users = []\n",
    "for x in top20_lst:\n",
    "    all_users.append(top20_lst[x].values)"
   ]
  },
  {
   "cell_type": "markdown",
   "metadata": {},
   "source": [
    "## Train Test Split and Building Interaction Matrices"
   ]
  },
  {
   "cell_type": "code",
   "execution_count": null,
   "metadata": {},
   "outputs": [],
   "source": [
    "train_val, test = train_test_split(user_top_games, test_size=0.2, random_state=1337)"
   ]
  },
  {
   "cell_type": "code",
   "execution_count": null,
   "metadata": {},
   "outputs": [],
   "source": [
    "interactions_train_all = create_interaction_matrix(df = train_val,\n",
    "                                                 user_col = 'user',\n",
    "                                                 item_col = 'item',\n",
    "                                                 rating_col = 'rating',\n",
    "                                                 threshold = '1')"
   ]
  },
  {
   "cell_type": "code",
   "execution_count": null,
   "metadata": {},
   "outputs": [],
   "source": [
    "interactions_test = create_interaction_matrix(df = test,\n",
    "                                         user_col = 'user',\n",
    "                                         item_col = 'item',\n",
    "                                         rating_col = 'rating',\n",
    "                                         threshold = '1')"
   ]
  },
  {
   "cell_type": "code",
   "execution_count": null,
   "metadata": {},
   "outputs": [],
   "source": [
    "interactions_full = create_interaction_matrix(df = user_top_games,\n",
    "                                         user_col = 'user',\n",
    "                                         item_col = 'item',\n",
    "                                         rating_col = 'rating',\n",
    "                                         threshold = '1')"
   ]
  },
  {
   "cell_type": "code",
   "execution_count": null,
   "metadata": {},
   "outputs": [],
   "source": [
    "user_dict = create_user_dict(interactions=interactions_train_all)\n",
    "games_dict = create_item_dict(df=games, id_col='item', name_col='item')"
   ]
  },
  {
   "cell_type": "code",
   "execution_count": null,
   "metadata": {},
   "outputs": [],
   "source": [
    "## create sparse matrices from interactions\n",
    "sparse_train_all = sparse.csr_matrix(interactions_train_all.values)\n",
    "sparse_test = sparse.csr_matrix(interactions_test.values)\n",
    "sparse_full = sparse.csr_matrix(interactions_full.values)"
   ]
  },
  {
   "cell_type": "markdown",
   "metadata": {},
   "source": [
    "## Train Model"
   ]
  },
  {
   "cell_type": "code",
   "execution_count": null,
   "metadata": {},
   "outputs": [],
   "source": [
    "sqlalchemy_conn = create_sqlalchemy_connection('sqlalchemy_conn_str.txt')\n",
    "best_parameters = query_best_parameters('sqlalchemy_conn_str.txt')\n",
    "best_parameters['no_components'] = 20\n",
    "model = LightFM(**best_parameters)\n",
    "model.fit(sparse_full,\n",
    "            epochs=15,\n",
    "            num_threads=30)"
   ]
  },
  {
   "cell_type": "markdown",
   "metadata": {},
   "source": [
    "## PCA Visualization"
   ]
  },
  {
   "cell_type": "code",
   "execution_count": null,
   "metadata": {},
   "outputs": [],
   "source": [
    "from sklearn.decomposition import PCA"
   ]
  },
  {
   "cell_type": "code",
   "execution_count": null,
   "metadata": {},
   "outputs": [],
   "source": [
    "item_embeddings = model.item_embeddings\n",
    "user_embeddings = model.user_embeddings"
   ]
  },
  {
   "cell_type": "code",
   "execution_count": null,
   "metadata": {},
   "outputs": [],
   "source": [
    "pca_model = PCA(n_components=2)\n",
    "test = pca_model.fit_transform(item_embeddings)"
   ]
  },
  {
   "cell_type": "markdown",
   "metadata": {},
   "source": [
    "## Extract the index positions where selected genres games belong to in the PCA embedded item matrix"
   ]
  },
  {
   "cell_type": "code",
   "execution_count": null,
   "metadata": {},
   "outputs": [],
   "source": [
    "def intersection(lst1, lst2): \n",
    "    lst3 = [value for value in lst1 if value in lst2] \n",
    "    return lst3"
   ]
  },
  {
   "cell_type": "code",
   "execution_count": null,
   "metadata": {},
   "outputs": [],
   "source": [
    "#Genres= other generes defineds in othergames \n",
    "\n",
    "intersected_othergames = []\n",
    "for item in other_games:\n",
    "    intersected_othergames.append(intersection(list(interactions_train_all.columns), list(item)))"
   ]
  },
  {
   "cell_type": "code",
   "execution_count": null,
   "metadata": {},
   "outputs": [],
   "source": [
    "intersected_user = []\n",
    "for user1 in all_users:\n",
    "    tmp = []\n",
    "    for item in user1:\n",
    "        tmp.append(intersection(list(interactions_train_all.columns), item))\n",
    "    intersected_user.append(tmp)\n",
    "#intersected_user[0]\n",
    "\n",
    "\n",
    "processed_user_item = []\n",
    "for j_item in intersected_user:\n",
    "    flat_list = []\n",
    "    for sublist in j_item:\n",
    "        for item in sublist:\n",
    "            flat_list.append(item)\n",
    "    processed_user_item.append(flat_list)"
   ]
  },
  {
   "cell_type": "code",
   "execution_count": null,
   "metadata": {},
   "outputs": [],
   "source": [
    "#processed_user_item"
   ]
  },
  {
   "cell_type": "code",
   "execution_count": null,
   "metadata": {},
   "outputs": [],
   "source": [
    "other_g_idx_new = []\n",
    "for curr_game in processed_user_item:\n",
    "    tmp_pos = []\n",
    "    for i in curr_game:\n",
    "        try:\n",
    "            tmp_pos.append(interactions_train_all.columns.get_loc(i))\n",
    "        except:\n",
    "            pass\n",
    "    other_g_idx_new.append(tmp_pos)"
   ]
  },
  {
   "cell_type": "code",
   "execution_count": null,
   "metadata": {},
   "outputs": [],
   "source": [
    "#Genres = action, sport, rpg, simulation, casual\n",
    "\n",
    "action = intersection(list(interactions_train_all.columns), list(action_games))\n",
    "sport = intersection(list(interactions_train_all.columns), list(sport_games))\n",
    "rpg = intersection(list(interactions_train_all.columns), list(rpg_games))\n",
    "simulation = intersection(list(interactions_train_all.columns), list(simulation_games))\n",
    "casual = intersection(list(interactions_train_all.columns), list(casual_games))\n",
    "\n",
    "action_idx = []\n",
    "for i in action:\n",
    "    try:\n",
    "        action_idx.append(interactions_train_all.columns.get_loc(i))\n",
    "    except:\n",
    "        pass\n",
    "sport_idx = []\n",
    "for i in sport:\n",
    "    try:\n",
    "        sport_idx.append(interactions_train_all.columns.get_loc(i))\n",
    "    except:\n",
    "        pass\n",
    "rpg_idx = []\n",
    "for i in rpg:\n",
    "    try:\n",
    "        rpg_idx.append(interactions_train_all.columns.get_loc(i))\n",
    "    except:\n",
    "        pass\n",
    "simulation_idx = []\n",
    "for i in simulation:\n",
    "    try:\n",
    "        simulation_idx.append(interactions_train_all.columns.get_loc(i))\n",
    "    except:\n",
    "        pass\n",
    "casual_idx = []\n",
    "for i in casual:\n",
    "    try:\n",
    "        casual_idx.append(interactions_train_all.columns.get_loc(i))\n",
    "    except:\n",
    "        pass"
   ]
  },
  {
   "cell_type": "code",
   "execution_count": null,
   "metadata": {},
   "outputs": [],
   "source": [
    "# Other genres descrioted in othergames list\n",
    "other_g_idx = []\n",
    "for j in range(len(intersected_othergames)):\n",
    "    tmplst = []\n",
    "    for i in intersected_othergames[j]:\n",
    "        try:\n",
    "            tmplst.append(interactions_train_all.columns.get_loc(i))\n",
    "        except:\n",
    "            pass\n",
    "    other_g_idx.append(tmplst)"
   ]
  },
  {
   "cell_type": "markdown",
   "metadata": {},
   "source": [
    "## PCA Plotting"
   ]
  },
  {
   "cell_type": "code",
   "execution_count": null,
   "metadata": {},
   "outputs": [],
   "source": [
    "import matplotlib.pyplot as plt\n",
    "\n",
    "size = 300\n",
    "target = 300\n",
    "\n",
    "\n",
    "plt.figure(figsize=(18,18))\n",
    "plt.scatter(test[:,0], test[:,1], s=size,color='gray')\n",
    "plt.scatter(test[action_idx,0], test[action_idx,1], s=target, color='aqua',edgecolors='r')\n",
    "plt.title('PCA - Top 1000 Picked Genre=Action', fontsize=50)\n",
    "\n",
    "plt.tick_params(axis='both', which='major', labelsize=50)\n",
    "plt.tick_params(axis='both', which='minor', labelsize=50)\n",
    "plt.grid()\n",
    "#plt.show()\n",
    "plt.savefig('../data/PCA_Plots/Action.png')\n",
    "\n",
    "\n",
    "# #ax[1, 0].plot(range(10), 'b') #row=1, col=0\n",
    "plt.figure(figsize=(20,18))\n",
    "plt.scatter(test[:,0], test[:,1], s=size,color='gray')\n",
    "plt.scatter(test[sport_idx,0], test[sport_idx,1], s=target, color='darkorchid',edgecolors='r')\n",
    "plt.title('PCA - Top 1000 Picked Genre=Sport',fontsize=50)\n",
    "plt.tick_params(axis='both', which='major', labelsize=50)\n",
    "plt.tick_params(axis='both', which='minor', labelsize=50)\n",
    "plt.grid()\n",
    "#plt.show()\n",
    "plt.savefig('../data/PCA_Plots/Sport.png')\n",
    "\n",
    "#ax[2, 0].plot(range(10), 'y') #row=1, col=0\n",
    "plt.figure(figsize=(20,18))\n",
    "plt.scatter(test[:,0], test[:,1], s=size,color='gray')\n",
    "plt.scatter(test[rpg_idx,0], test[rpg_idx,1], s=target, color='g',edgecolors='r')\n",
    "plt.title('PCA - Top 1000 Picked Genre=RPG',fontsize=50)\n",
    "plt.tick_params(axis='both', which='major', labelsize=50)\n",
    "plt.tick_params(axis='both', which='minor', labelsize=50)\n",
    "plt.grid()\n",
    "#plt.show()\n",
    "plt.savefig('../data/PCA_Plots/RPG.png')\n",
    "\n",
    "#ax[0, 1].plot(range(10), 'g') #row=0, col=1\n",
    "plt.figure(figsize=(20,18))\n",
    "plt.scatter(test[:,0], test[:,1], s=size,color='gray')\n",
    "plt.scatter(test[simulation_idx,0], test[simulation_idx,1], s=target, color='m',edgecolors='r')\n",
    "plt.title('PCA - Top 1000 Picked Genre=Simulation',fontsize=50)\n",
    "plt.tick_params(axis='both', which='major', labelsize=50)\n",
    "plt.tick_params(axis='both', which='minor', labelsize=50)\n",
    "plt.grid()\n",
    "#plt.show()\n",
    "plt.savefig('../data/PCA_Plots/Simulation.png')\n",
    "\n",
    "\n",
    "#ax[1, 1].plot(range(10), 'm') #row=1, col=1\n",
    "plt.figure(figsize=(20,18))\n",
    "plt.scatter(test[:,0], test[:,1], s=size,color='gray')\n",
    "plt.scatter(test[casual_idx,0], test[casual_idx,1], s=target, color='darkorange',edgecolors='r')\n",
    "plt.title('PCA - Top 1000 Picked Genre=Casual',fontsize=50)\n",
    "plt.tick_params(axis='both', which='major', labelsize=50)\n",
    "plt.tick_params(axis='both', which='minor', labelsize=50)\n",
    "plt.grid()\n",
    "#plt.show()\n",
    "plt.savefig('../data/PCA_Plots/Casual.png')\n"
   ]
  },
  {
   "cell_type": "code",
   "execution_count": null,
   "metadata": {},
   "outputs": [],
   "source": [
    "import matplotlib.pyplot as plt\n",
    "from itertools import cycle\n",
    "cycol = cycle('bgrcmk')\n",
    "count = 0\n",
    "for i in range(4):\n",
    "    for j in range(2):\n",
    "        size = 300\n",
    "        target = 300\n",
    "        current_genre = 'PCA - Top 1000 Picked Genre=' + game_type[count]\n",
    "        plt.figure(figsize=(18,18))\n",
    "        plt.scatter(test[:,0], test[:,1], s=size,color='gray')\n",
    "        plt.scatter(test[other_g_idx[count],0], test[other_g_idx[count],1], s=target, c=next(cycol),edgecolors='r')\n",
    "        plt.title(current_genre,fontsize=50)\n",
    "        plt.tick_params(axis='both', which='major', labelsize=50)\n",
    "        plt.tick_params(axis='both', which='minor', labelsize=50)\n",
    "        plt.grid()\n",
    "        #plt.show()\n",
    "        count = count + 1"
   ]
  },
  {
   "cell_type": "code",
   "execution_count": null,
   "metadata": {},
   "outputs": [],
   "source": [
    "game_type[0]"
   ]
  },
  {
   "cell_type": "code",
   "execution_count": null,
   "metadata": {},
   "outputs": [],
   "source": [
    "#!pip install pillow"
   ]
  },
  {
   "cell_type": "code",
   "execution_count": null,
   "metadata": {},
   "outputs": [],
   "source": [
    "import matplotlib.pyplot as plt\n",
    "from itertools import cycle\n",
    "cycol = cycle('bgrcmk')\n",
    "count = 0\n",
    "top20_lst.columns\n",
    "for j in range(len(top20_lst.columns)):\n",
    "    plt.rcParams[\"font.weight\"] = \"bold\"\n",
    "    size = 400\n",
    "    target = 700\n",
    "    current_genre = 'PCA - Top 20 Recommended Games=' + top20_lst.columns[j]\n",
    "    plt.figure(figsize=(18,18))\n",
    "    plt.scatter(test[:,0], test[:,1], s=size,color='darkgray')\n",
    "    #plt.scatter(test[other_g_idx_new[count],0], test[other_g_idx_new[count],1], s=target, c=next(cycol),edgecolors='r')\n",
    "    plt.scatter(test[other_g_idx_new[count],0], test[other_g_idx_new[count],1], s=target, c='red',edgecolors='c',linewidth='5')\n",
    "    plt.title(current_genre,fontsize=50,fontweight=\"bold\")\n",
    "    plt.tick_params(axis='both', which='major', labelsize=50)\n",
    "    plt.tick_params(axis='both', which='minor', labelsize=50)\n",
    "    \n",
    "    plt.grid()\n",
    "    name = '../data/PCA_Plots/' + top20_lst.columns[j] + '.jpg'\n",
    "    plt.savefig(name)\n",
    "    count = count + 1\n"
   ]
  },
  {
   "cell_type": "code",
   "execution_count": null,
   "metadata": {},
   "outputs": [],
   "source": []
  }
 ],
 "metadata": {
  "anaconda-cloud": {},
  "kernelspec": {
   "display_name": "Python 3",
   "language": "python",
   "name": "python3"
  },
  "language_info": {
   "codemirror_mode": {
    "name": "ipython",
    "version": 3
   },
   "file_extension": ".py",
   "mimetype": "text/x-python",
   "name": "python",
   "nbconvert_exporter": "python",
   "pygments_lexer": "ipython3",
   "version": "3.7.1"
  }
 },
 "nbformat": 4,
 "nbformat_minor": 2
}
