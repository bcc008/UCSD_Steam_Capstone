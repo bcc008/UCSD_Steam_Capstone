{
 "cells": [
  {
   "cell_type": "code",
   "execution_count": 1,
   "metadata": {},
   "outputs": [],
   "source": [
    "import json\n",
    "import pickle as pkl\n",
    "import operator\n",
    "import time\n",
    "from collections import Counter\n",
    "from itertools import product\n",
    "import random\n",
    "\n",
    "\n",
    "import pandas as pd\n",
    "from pandas.io.json import json_normalize\n",
    "import numpy as np\n",
    "import scipy\n",
    "from scipy.sparse import csr_matrix\n",
    "from sklearn.model_selection import train_test_split, StratifiedKFold\n",
    "\n",
    "from lightfm import LightFM\n",
    "from lightfm.evaluation import precision_at_k\n",
    "from lightfm.evaluation import recall_at_k\n",
    "from lightfm.evaluation import auc_score\n",
    "from lightfm.evaluation import reciprocal_rank\n",
    "\n",
    "%run '../lib/cookbook/recsys.py'\n",
    "%run '../lib/cookbook/generic_preprocessing.py'\n",
    "%run '../lib/utility.py'\n",
    "\n",
    "from IPython.display import HTML ## Setting display options for Ipython Notebook"
   ]
  },
  {
   "cell_type": "markdown",
   "metadata": {},
   "source": [
    "# Data Preprocessing"
   ]
  },
  {
   "cell_type": "code",
   "execution_count": 2,
   "metadata": {},
   "outputs": [],
   "source": [
    "def filter_by_hours_played(path,minutes_played=None,percentile=None):\n",
    "    with open(path) as f:\n",
    "        df_items = json.load(f)    \n",
    "    parsed_items = json_normalize(data=df_items, \n",
    "                                  record_path='items', \n",
    "                                  meta=['items_count','steam_id','user_id','user_url'])\n",
    "    if minutes_played != None:\n",
    "        parsed_items = parsed_items[parsed_items.playtime_forever > minutes_played]\n",
    "    if percentile != None:\n",
    "        quantiles = parsed_items.groupby('item_name')['playtime_forever'].quantile(q=percentile)\n",
    "        parsed_items = pd.merge(parsed_items, pd.DataFrame(quantiles), how='left', left_on='item_name', right_index=True)\n",
    "        parsed_items = parsed_items.loc[parsed_items['playtime_forever_x'] > parsed_items['playtime_forever_y']]\n",
    "    return parsed_items"
   ]
  },
  {
   "cell_type": "code",
   "execution_count": 3,
   "metadata": {},
   "outputs": [],
   "source": [
    "def isNaN(num):\n",
    "   return num != num\n",
    "\n",
    "def cleanup_price(price):\n",
    "   if isinstance(price, str):\n",
    "       if price.find(\"Free\") > 0 or price.find(\"Demo\") > 0:\n",
    "           return 0\n",
    "   elif isNaN(price) == True:\n",
    "       return 0\n",
    "   else:\n",
    "       return round(price)"
   ]
  },
  {
   "cell_type": "code",
   "execution_count": 4,
   "metadata": {},
   "outputs": [],
   "source": [
    "def build_list(df, games, free_games=False):\n",
    "    game_ids = []\n",
    "    if free_games == False:\n",
    "        game_ids = []\n",
    "        for i in games:\n",
    "            if 'price' in i.keys() and 'id' in i.keys():\n",
    "                price = cleanup_price(i['price'])\n",
    "                if price != None and price > 0:\n",
    "                   game_ids.append(i['id'])\n",
    "        df = df.loc[df['item_id'].isin(game_ids)]\n",
    "        user_items = df[['user_id','item_name']].values.tolist()\n",
    "    if free_games == True:\n",
    "        for i in games:\n",
    "            if 'id' in i.keys():\n",
    "                game_ids.append(i['id'])\n",
    "        df = df.loc[df['item_id'].isin(game_ids)]\n",
    "        user_items = df[['user_id','item_name']].values.tolist()\n",
    "    return user_items, game_ids"
   ]
  },
  {
   "cell_type": "code",
   "execution_count": 5,
   "metadata": {},
   "outputs": [],
   "source": [
    "test = filter_by_hours_played('../data/fixed/australian_users_items_fixed.json')\n",
    "steam_games = json.load(open('../data/fixed/steam_games_fixed.json','r'))\n",
    "test2, test3 = build_list(test, steam_games, free_games=True)"
   ]
  },
  {
   "cell_type": "code",
   "execution_count": 6,
   "metadata": {},
   "outputs": [],
   "source": [
    "#Build maxtrix of users and games\n",
    "def build_df(user_item):\n",
    "    df = pd.DataFrame(user_item,columns=['user','item'])\n",
    "    df = df.drop_duplicates(['user','item'])\n",
    "    df['own'] = 1\n",
    "    df = df.pivot(index='user',columns='item',values='own')\n",
    "    df = df.fillna(0)\n",
    "    return df"
   ]
  },
  {
   "cell_type": "code",
   "execution_count": 7,
   "metadata": {},
   "outputs": [],
   "source": [
    "## Filter by most owned games\n",
    "\n",
    "def filter_top_n(user_item_df, n=1000):\n",
    "    top_n = user_item_df.sum().nlargest(n).index\n",
    "    user_top_ngames = user_item_df[top_n].stack().reset_index()\n",
    "    user_top_ngames = user_top_ngames.rename(columns={0:'rating'})\n",
    "    return user_top_ngames"
   ]
  },
  {
   "cell_type": "code",
   "execution_count": 8,
   "metadata": {},
   "outputs": [],
   "source": [
    "def list_games(user_item_df):\n",
    "    games=pd.DataFrame()\n",
    "    games['item']=user_item_df.item.drop_duplicates()\n",
    "    return games"
   ]
  },
  {
   "cell_type": "code",
   "execution_count": 9,
   "metadata": {},
   "outputs": [],
   "source": [
    "def filter_top_n_for_filtered(user_item_df, games):\n",
    "    for column in games.item:\n",
    "        if column not in user_item_df.columns:\n",
    "            user_item_df[column] = 0.0\n",
    "    return filter_top_n(user_item_df[games['item'].tolist()],10000)"
   ]
  },
  {
   "cell_type": "code",
   "execution_count": 10,
   "metadata": {},
   "outputs": [],
   "source": [
    "filtered_hours_items = filter_by_hours_played('../data/fixed/australian_users_items_fixed.json', minutes_played=30)\n",
    "filtered_percentile_items = filter_by_hours_played('../data/fixed/australian_users_items_fixed.json', percentile=0.10)\n",
    "full_aussie_items = filter_by_hours_played('../data/fixed/australian_users_items_fixed.json')\n",
    "aussie_reviews = json.load(open('../data/fixed/australian_user_reviews_fixed.json','r'))\n",
    "steam_games = json.load(open('../data/fixed/steam_games_fixed.json','r'))\n",
    "#Top 20 movies recommended which saved from temporary .csv file\n",
    "top20_lst = pd.read_csv('../data/fixed/top20_user_titleslist.csv',index_col=None )"
   ]
  },
  {
   "cell_type": "code",
   "execution_count": 16,
   "metadata": {},
   "outputs": [],
   "source": [
    "#Convert Steam games into dataframe\n",
    "meta_df = pd.DataFrame(steam_games)"
   ]
  },
  {
   "cell_type": "markdown",
   "metadata": {},
   "source": [
    "# Data Extraction - Find the games title/index of each selected genre in Steam metadata "
   ]
  },
  {
   "cell_type": "code",
   "execution_count": 52,
   "metadata": {},
   "outputs": [],
   "source": [
    "\n",
    "#Test 5 kind of popular genres in Steam metadata\n",
    "\n",
    "action = []\n",
    "sport = []\n",
    "rpg = []\n",
    "simulation = []\n",
    "casual = []\n",
    "\n",
    "for i in range(0,meta_df.shape[0]):\n",
    "    if not(type(meta_df.genres[i]) is float) and 'Action' in meta_df.genres[i]:\n",
    "        action.append((meta_df.id[i],meta_df.app_name[i]))\n",
    "    if not(type(meta_df.genres[i]) is float) and 'Sports' in meta_df.genres[i]:\n",
    "        sport.append((meta_df.id[i],meta_df.app_name[i]))\n",
    "    if not(type(meta_df.genres[i]) is float) and 'RPG' in meta_df.genres[i]:\n",
    "        rpg.append((meta_df.id[i],meta_df.app_name[i]))\n",
    "    if not(type(meta_df.genres[i]) is float) and 'Simulation' in meta_df.genres[i]:\n",
    "        simulation.append((meta_df.id[i],meta_df.app_name[i]))\n",
    "    if not(type(meta_df.genres[i]) is float) and 'Casual' in meta_df.genres[i]:\n",
    "        casual.append((meta_df.id[i],meta_df.app_name[i]))\n"
   ]
  },
  {
   "cell_type": "code",
   "execution_count": 53,
   "metadata": {},
   "outputs": [],
   "source": [
    "#action\n",
    "tmp1 = [i[0] for i in action]\n",
    "tmp1 = filter(lambda v: v==v, tmp1)\n",
    "tmp1 = [i for i in tmp1]\n",
    "\n",
    "#sport\n",
    "tmp2 = [i[0] for i in sport]\n",
    "tmp2 = filter(lambda v: v==v, tmp2)\n",
    "tmp2 = [i for i in tmp2]\n",
    "\n",
    "#rpg\n",
    "tmp3 = [i[0] for i in rpg]\n",
    "tmp3 = filter(lambda v: v==v, tmp3)\n",
    "tmp3 = [i for i in tmp3]\n",
    "\n",
    "#simulation\n",
    "tmp4 = [i[0] for i in simulation]\n",
    "tmp4 = filter(lambda v: v==v, tmp4)\n",
    "tmp4 = [i for i in tmp4]\n",
    "\n",
    "#casual\n",
    "tmp5 = [i[0] for i in casual]\n",
    "tmp5 = filter(lambda v: v==v, tmp5)\n",
    "tmp5 = [i for i in tmp5]\n",
    "\n",
    "action_games = full_aussie_items['item_name'][full_aussie_items.item_id.isin(tmp1)]\n",
    "sport_games = full_aussie_items['item_name'][full_aussie_items.item_id.isin(tmp2)]\n",
    "rpg_games = full_aussie_items['item_name'][full_aussie_items.item_id.isin(tmp3)]\n",
    "simulation_games = full_aussie_items['item_name'][full_aussie_items.item_id.isin(tmp4)]\n",
    "casual_games = full_aussie_items['item_name'][full_aussie_items.item_id.isin(tmp5)]\n",
    "\n",
    "# Store game names into pickle files\n",
    "pkl.dump(action_games,open('../data/preprocessed_data/all_games/action_games.pkl', 'wb'))\n",
    "\n",
    "pkl.dump(sport_games,open('../data/preprocessed_data/all_games/sport_games.pkl', 'wb'))\n",
    "\n",
    "pkl.dump(rpg_games,open('../data/preprocessed_data/all_games/rpg_games.pkl', 'wb'))\n",
    "\n",
    "pkl.dump(simulation_games,open('../data/preprocessed_data/all_games/simulation_games.pkl', 'wb'))\n",
    "\n",
    "pkl.dump(casual_games,open('../data/preprocessed_data/all_games/casual_games.pkl', 'wb'))"
   ]
  },
  {
   "cell_type": "code",
   "execution_count": 61,
   "metadata": {},
   "outputs": [],
   "source": [
    "#Additional \n",
    "#Strategy, Adventure, Indie, Racing, Singleplayer, Classic, VR, Sci-fi\n",
    "game_type = ['Strategy', 'Adventure', 'Indie', 'Racing', 'Singleplayer', 'Classic', 'VR', 'Sci-fi']\n",
    "games = []\n",
    "for j in game_type:\n",
    "    tmp = []\n",
    "    for i in range(0,meta_df.shape[0]):\n",
    "        if not(type(meta_df.tags[i]) is float) and j in meta_df.tags[i]:\n",
    "            tmp.append((meta_df.id[i],meta_df.app_name[i]))\n",
    "    games.append(tmp)\n",
    "\n",
    "#processed games after filtering NaN\n",
    "p_games = []\n",
    "for item in games:\n",
    "    tmp = [i[0] for i in item]\n",
    "    tmp = filter(lambda v: v==v, tmp)\n",
    "    tmp = [i for i in tmp]\n",
    "    p_games.append(tmp)\n",
    "    \n",
    "#Now retrieve game names\n",
    "all_genres = []\n",
    "for item in p_games:\n",
    "    all_genres.append(full_aussie_items['item_name'][full_aussie_items.item_id.isin(item)])\n",
    " \n",
    "\n"
   ]
  },
  {
   "cell_type": "code",
   "execution_count": 62,
   "metadata": {},
   "outputs": [],
   "source": [
    "#Store into pickle files\n",
    "count = 0\n",
    "for item in game_type:\n",
    "    param = '../data/preprocessed_data/all_games/'+ item + '_games.pkl'\n",
    "    pkl.dump(all_genres[count],open(param, 'wb'))\n",
    "    count = count + 1"
   ]
  },
  {
   "cell_type": "markdown",
   "metadata": {},
   "source": [
    "### All Games"
   ]
  },
  {
   "cell_type": "code",
   "execution_count": 30,
   "metadata": {},
   "outputs": [],
   "source": [
    "filtered_hours_user_item = build_list(filtered_hours_items, steam_games, free_games=True)\n",
    "filtered_percentile_user_item = build_list(filtered_percentile_items, steam_games, free_games=True)\n",
    "full_user_item = build_list(full_aussie_items, steam_games, free_games=True)\n",
    "\n",
    "filtered_hours_user_item_df = build_df(filtered_hours_user_item)\n",
    "filtered_percentile_user_item_df = build_df(filtered_percentile_user_item)\n",
    "full_user_item_df = build_df(full_user_item)"
   ]
  },
  {
   "cell_type": "code",
   "execution_count": 31,
   "metadata": {},
   "outputs": [],
   "source": [
    "user_top_games = filter_top_n(full_user_item_df,1000)\n",
    "games = list_games(user_top_games)\n",
    "user_top_games_filtered_hours = filter_top_n_for_filtered(filtered_hours_user_item_df, games)\n",
    "user_top_games_filtered_percentile = filter_top_n_for_filtered(filtered_percentile_user_item_df, games)"
   ]
  },
  {
   "cell_type": "code",
   "execution_count": 32,
   "metadata": {},
   "outputs": [],
   "source": [
    "pkl.dump(user_top_games,open('../data/preprocessed_data/all_games/user_top_games.pkl', 'wb'))\n",
    "pkl.dump(user_top_games_filtered_hours,open('../data/preprocessed_data/all_games/user_top_games_filtered_hours.pkl', 'wb'))\n",
    "pkl.dump(user_top_games_filtered_percentile,open('../data/preprocessed_data/all_games/user_top_games_filtered_percentile.pkl', 'wb'))\n",
    "pkl.dump(games,open('../data/preprocessed_data/all_games/games.pkl', 'wb'))"
   ]
  },
  {
   "cell_type": "markdown",
   "metadata": {},
   "source": [
    "### No Free Games"
   ]
  },
  {
   "cell_type": "code",
   "execution_count": 33,
   "metadata": {},
   "outputs": [],
   "source": [
    "filtered_hours_user_item = build_list(filtered_hours_items, steam_games, free_games=False)\n",
    "filtered_percentile_user_item = build_list(filtered_percentile_items, steam_games, free_games=False)\n",
    "full_user_item = build_list(full_aussie_items, steam_games, free_games=False)\n",
    "\n",
    "filtered_hours_user_item_df = build_df(filtered_hours_user_item)\n",
    "filtered_percentile_user_item_df = build_df(filtered_percentile_user_item)\n",
    "full_user_item_df = build_df(full_user_item)"
   ]
  },
  {
   "cell_type": "code",
   "execution_count": 34,
   "metadata": {},
   "outputs": [],
   "source": [
    "user_top_games = filter_top_n(full_user_item_df,1000)\n",
    "games = list_games(user_top_games)\n",
    "user_top_games_filtered_hours = filter_top_n_for_filtered(filtered_hours_user_item_df, games)\n",
    "user_top_games_filtered_percentile = filter_top_n_for_filtered(filtered_percentile_user_item_df, games)"
   ]
  },
  {
   "cell_type": "code",
   "execution_count": 35,
   "metadata": {},
   "outputs": [
    {
     "data": {
      "text/html": [
       "<div>\n",
       "<style scoped>\n",
       "    .dataframe tbody tr th:only-of-type {\n",
       "        vertical-align: middle;\n",
       "    }\n",
       "\n",
       "    .dataframe tbody tr th {\n",
       "        vertical-align: top;\n",
       "    }\n",
       "\n",
       "    .dataframe thead th {\n",
       "        text-align: right;\n",
       "    }\n",
       "</style>\n",
       "<table border=\"1\" class=\"dataframe\">\n",
       "  <thead>\n",
       "    <tr style=\"text-align: right;\">\n",
       "      <th></th>\n",
       "      <th>user</th>\n",
       "      <th>item</th>\n",
       "      <th>rating</th>\n",
       "    </tr>\n",
       "  </thead>\n",
       "  <tbody>\n",
       "    <tr>\n",
       "      <th>0</th>\n",
       "      <td>--000--</td>\n",
       "      <td>Counter-Strike: Global Offensive</td>\n",
       "      <td>1.0</td>\n",
       "    </tr>\n",
       "    <tr>\n",
       "      <th>1</th>\n",
       "      <td>--000--</td>\n",
       "      <td>Garry's Mod</td>\n",
       "      <td>1.0</td>\n",
       "    </tr>\n",
       "    <tr>\n",
       "      <th>2</th>\n",
       "      <td>--000--</td>\n",
       "      <td>Left 4 Dead 2</td>\n",
       "      <td>1.0</td>\n",
       "    </tr>\n",
       "    <tr>\n",
       "      <th>3</th>\n",
       "      <td>--000--</td>\n",
       "      <td>Terraria</td>\n",
       "      <td>1.0</td>\n",
       "    </tr>\n",
       "    <tr>\n",
       "      <th>4</th>\n",
       "      <td>--000--</td>\n",
       "      <td>Portal 2</td>\n",
       "      <td>0.0</td>\n",
       "    </tr>\n",
       "  </tbody>\n",
       "</table>\n",
       "</div>"
      ],
      "text/plain": [
       "      user                              item  rating\n",
       "0  --000--  Counter-Strike: Global Offensive     1.0\n",
       "1  --000--                       Garry's Mod     1.0\n",
       "2  --000--                     Left 4 Dead 2     1.0\n",
       "3  --000--                          Terraria     1.0\n",
       "4  --000--                          Portal 2     0.0"
      ]
     },
     "execution_count": 35,
     "metadata": {},
     "output_type": "execute_result"
    }
   ],
   "source": [
    "user_top_games_filtered_hours.head()"
   ]
  },
  {
   "cell_type": "code",
   "execution_count": null,
   "metadata": {},
   "outputs": [],
   "source": []
  },
  {
   "cell_type": "code",
   "execution_count": null,
   "metadata": {},
   "outputs": [],
   "source": []
  },
  {
   "cell_type": "code",
   "execution_count": 44,
   "metadata": {},
   "outputs": [],
   "source": [
    "pkl.dump(user_top_games,open('../data/preprocessed_data/no_free_games/user_top_games.pkl', 'wb'))\n",
    "pkl.dump(user_top_games_filtered_hours,open('../data/preprocessed_data/no_free_games/user_top_games_filtered_hours.pkl', 'wb'))\n",
    "pkl.dump(user_top_games_filtered_percentile,open('../data/preprocessed_data/no_free_games/user_top_games_filtered_percentile.pkl', 'wb'))\n",
    "pkl.dump(games,open('../data/preprocessed_data/no_free_games/games.pkl', 'wb'))"
   ]
  }
 ],
 "metadata": {
  "anaconda-cloud": {},
  "kernelspec": {
   "display_name": "Python 3",
   "language": "python",
   "name": "python3"
  },
  "language_info": {
   "codemirror_mode": {
    "name": "ipython",
    "version": 3
   },
   "file_extension": ".py",
   "mimetype": "text/x-python",
   "name": "python",
   "nbconvert_exporter": "python",
   "pygments_lexer": "ipython3",
   "version": "3.7.1"
  }
 },
 "nbformat": 4,
 "nbformat_minor": 2
}
