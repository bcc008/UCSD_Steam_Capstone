{
 "cells": [
  {
   "cell_type": "code",
   "execution_count": 1,
   "metadata": {},
   "outputs": [],
   "source": [
    "import json\n",
    "import pickle as pkl\n",
    "import operator\n",
    "import time\n",
    "from collections import Counter\n",
    "from itertools import product\n",
    "import random\n",
    "\n",
    "import pandas as pd\n",
    "from pandas.io.json import json_normalize\n",
    "import numpy as np\n",
    "import scipy\n",
    "from scipy.sparse import csr_matrix\n",
    "from sklearn.model_selection import train_test_split, StratifiedKFold\n",
    "\n",
    "import psycopg2 as pg\n",
    "\n",
    "from lightfm import LightFM\n",
    "from lightfm.evaluation import precision_at_k\n",
    "from lightfm.evaluation import recall_at_k\n",
    "from lightfm.evaluation import auc_score\n",
    "from lightfm.evaluation import reciprocal_rank\n",
    "\n",
    "%run '../lib/cookbook/recsys.py'\n",
    "%run '../lib/cookbook/generic_preprocessing.py'\n",
    "%run '../lib/utility.py'\n",
    "\n",
    "import matplotlib.pyplot as plt\n",
    "from IPython.display import HTML ## Setting display options for Ipython Notebook"
   ]
  },
  {
   "cell_type": "markdown",
   "metadata": {},
   "source": [
    "## Reload Data"
   ]
  },
  {
   "cell_type": "code",
   "execution_count": 2,
   "metadata": {},
   "outputs": [],
   "source": [
    "## No Free Games\n",
    "user_top_games = pkl.load(open('../data/preprocessed_data/no_free_games/user_top_games.pkl', 'rb'))\n",
    "user_top_games_filtered_hours = pkl.load(open('../data/preprocessed_data/no_free_games/user_top_games_filtered_hours.pkl', 'rb'))\n",
    "user_top_games_filtered_percentile = pkl.load(open('../data/preprocessed_data/no_free_games/user_top_games_filtered_percentile.pkl', 'rb'))\n",
    "games = pkl.load(open('../data/preprocessed_data/no_free_games/games.pkl', 'rb'))"
   ]
  },
  {
   "cell_type": "markdown",
   "metadata": {},
   "source": [
    "## Train Test Split and Building Interaction Matrices"
   ]
  },
  {
   "cell_type": "code",
   "execution_count": 5,
   "metadata": {},
   "outputs": [],
   "source": [
    "train_val, test = train_test_split(user_top_games_filtered_percentile, test_size=0.2, random_state=1337)"
   ]
  },
  {
   "cell_type": "code",
   "execution_count": 6,
   "metadata": {},
   "outputs": [],
   "source": [
    "interactions_train_all = create_interaction_matrix(df = train_val,\n",
    "                                                 user_col = 'user',\n",
    "                                                 item_col = 'item',\n",
    "                                                 rating_col = 'rating',\n",
    "                                                 threshold = '1')"
   ]
  },
  {
   "cell_type": "code",
   "execution_count": 7,
   "metadata": {},
   "outputs": [],
   "source": [
    "interactions_test = create_interaction_matrix(df = test,\n",
    "                                         user_col = 'user',\n",
    "                                         item_col = 'item',\n",
    "                                         rating_col = 'rating',\n",
    "                                         threshold = '1')"
   ]
  },
  {
   "cell_type": "code",
   "execution_count": 8,
   "metadata": {},
   "outputs": [],
   "source": [
    "interactions_full = create_interaction_matrix(df = user_top_games_filtered_percentile,\n",
    "                                                 user_col = 'user',\n",
    "                                                 item_col = 'item',\n",
    "                                                 rating_col = 'rating',\n",
    "                                                 threshold = '1')"
   ]
  },
  {
   "cell_type": "code",
   "execution_count": 9,
   "metadata": {},
   "outputs": [],
   "source": [
    "user_dict = create_user_dict(interactions=interactions_train_all)\n",
    "games_dict = create_item_dict(df=games, id_col='item', name_col='item')"
   ]
  },
  {
   "cell_type": "code",
   "execution_count": 10,
   "metadata": {},
   "outputs": [],
   "source": [
    "## create sparse matrices from interactions\n",
    "sparse_train_all = sparse.csr_matrix(interactions_train_all.values)\n",
    "sparse_test = sparse.csr_matrix(interactions_test.values)"
   ]
  },
  {
   "cell_type": "markdown",
   "metadata": {},
   "source": [
    "# Analysis"
   ]
  },
  {
   "cell_type": "markdown",
   "metadata": {},
   "source": [
    "# Train time by CPUs"
   ]
  },
  {
   "cell_type": "code",
   "execution_count": 15,
   "metadata": {},
   "outputs": [],
   "source": [
    "model = LightFM(\n",
    "                loss='warp',\n",
    "                learning_schedule='adagrad',\n",
    "                no_components=70,\n",
    "                learning_rate=0.05,\n",
    "                user_alpha=0.0001,\n",
    "                item_alpha=0.0001,\n",
    "                )\n",
    "\n",
    "train_time = []\n",
    "\n",
    "for i in range(1,20):\n",
    "    time_start = time.time()\n",
    "    model.fit(sparse_train_all,\n",
    "              epochs=15,\n",
    "              num_threads=i)\n",
    "    time_end = time.time()\n",
    "    train_time.append((i+1,time_end-time_start))"
   ]
  },
  {
   "cell_type": "code",
   "execution_count": 20,
   "metadata": {},
   "outputs": [
    {
     "data": {
      "text/plain": [
       "[(2, 58.676300048828125),\n",
       " (3, 44.74558997154236),\n",
       " (4, 39.82103085517883),\n",
       " (5, 34.751445055007935),\n",
       " (6, 31.818082809448242),\n",
       " (7, 29.778425931930542),\n",
       " (8, 26.036377429962158),\n",
       " (9, 24.70049476623535),\n",
       " (10, 23.526432991027832),\n",
       " (11, 22.85115957260132),\n",
       " (12, 22.83726167678833),\n",
       " (13, 21.021599769592285),\n",
       " (14, 20.588250875473022),\n",
       " (15, 19.809993267059326),\n",
       " (16, 18.98064136505127),\n",
       " (17, 18.279616594314575),\n",
       " (18, 16.767219066619873),\n",
       " (19, 17.012341499328613),\n",
       " (20, 16.279738187789917)]"
      ]
     },
     "execution_count": 20,
     "metadata": {},
     "output_type": "execute_result"
    }
   ],
   "source": [
    "train_time"
   ]
  },
  {
   "cell_type": "code",
   "execution_count": 23,
   "metadata": {},
   "outputs": [
    {
     "data": {
      "image/png": "[encoded data removed]",
      "text/plain": [
       "<Figure size 1152x576 with 1 Axes>"
      ]
     },
     "metadata": {
      "needs_background": "light"
     },
     "output_type": "display_data"
    }
   ],
   "source": [
    "plt.clf()\n",
    "X = [i[0] for i in train_time]\n",
    "Y = [i[1] for i in train_time]\n",
    "plt.plot(X, Y)\n",
    "plt.rcParams[\"figure.figsize\"] = [16,8]\n",
    "plt.xticks([i for i in range(1,21)])\n",
    "plt.yticks([20,25,30,35,40,45,50,55,60])\n",
    "plt.xlabel('Number of CPUs Utilized')\n",
    "plt.ylabel('Time Taken (Seconds)')\n",
    "plt.grid()"
   ]
  },
  {
   "cell_type": "markdown",
   "metadata": {},
   "source": [
    "# Epochs"
   ]
  },
  {
   "cell_type": "code",
   "execution_count": 18,
   "metadata": {},
   "outputs": [],
   "source": [
    "model = LightFM(\n",
    "                loss='warp',\n",
    "                learning_schedule='adagrad',\n",
    "                no_components=70,\n",
    "                learning_rate=0.05,\n",
    "                user_alpha=0.0001,\n",
    "                item_alpha=0.0001,\n",
    "                )\n",
    "\n",
    "train_auc_epoch = []\n",
    "test_auc_epoch = []\n",
    "\n",
    "for i in range(100):\n",
    "    model.fit_partial(sparse_train_all,\n",
    "                    num_threads=10)\n",
    "    train_auc = auc_score(model, sparse_train_all, num_threads=10).mean()\n",
    "    test_auc = auc_score(model, sparse_test, sparse_train_all, num_threads=10).mean()\n",
    "    train_auc_epoch.append((i+1,train_auc))\n",
    "    test_auc_epoch.append((i+1,test_auc))"
   ]
  },
  {
   "cell_type": "code",
   "execution_count": 19,
   "metadata": {},
   "outputs": [
    {
     "data": {
      "image/png": "[encoded data removed]",
      "text/plain": [
       "<Figure size 432x288 with 1 Axes>"
      ]
     },
     "metadata": {
      "needs_background": "light"
     },
     "output_type": "display_data"
    }
   ],
   "source": [
    "plt.clf()\n",
    "plt.plot([i[1] for i in train_auc_epoch], label='train')\n",
    "plt.plot([i[1] for i in test_auc_epoch], label='val')\n",
    "plt.xlabel('epochs')\n",
    "plt.ylabel('AUC')\n",
    "plt.legend(loc='lower right')\n",
    "plt.grid()"
   ]
  },
  {
   "cell_type": "code",
   "execution_count": 20,
   "metadata": {},
   "outputs": [],
   "source": [
    "model = LightFM(\n",
    "                loss='bpr',\n",
    "                learning_schedule='adagrad',\n",
    "                no_components=70,\n",
    "                learning_rate=0.01,\n",
    "                user_alpha=0.001,\n",
    "                item_alpha=0.0001,\n",
    "                )\n",
    "\n",
    "train_auc_epoch = []\n",
    "test_auc_epoch = []\n",
    "\n",
    "for i in range(100):\n",
    "    model.fit_partial(sparse_train_all,\n",
    "                    num_threads=10)\n",
    "    train_auc = auc_score(model, sparse_train_all, num_threads=10).mean()\n",
    "    test_auc = auc_score(model, sparse_test, sparse_train_all, num_threads=10).mean()\n",
    "    train_auc_epoch.append((i+1,train_auc))\n",
    "    test_auc_epoch.append((i+1,test_auc))"
   ]
  },
  {
   "cell_type": "code",
   "execution_count": 21,
   "metadata": {},
   "outputs": [
    {
     "data": {
      "image/png": "[encoded data removed]",
      "text/plain": [
       "<Figure size 432x288 with 1 Axes>"
      ]
     },
     "metadata": {
      "needs_background": "light"
     },
     "output_type": "display_data"
    }
   ],
   "source": [
    "plt.clf()\n",
    "plt.plot([i[1] for i in train_auc_epoch], label='train')\n",
    "plt.plot([i[1] for i in test_auc_epoch], label='val')\n",
    "plt.xlabel('epochs')\n",
    "plt.ylabel('AUC')\n",
    "plt.legend(loc='lower right')\n",
    "plt.grid()"
   ]
  },
  {
   "cell_type": "markdown",
   "metadata": {},
   "source": [
    "# Cold Start"
   ]
  },
  {
   "cell_type": "code",
   "execution_count": 11,
   "metadata": {},
   "outputs": [],
   "source": [
    "sqlalchemy_conn = create_sqlalchemy_connection('sqlalchemy_conn_str.txt')\n",
    "best_parameters = query_best_parameters('sqlalchemy_conn_str.txt')"
   ]
  },
  {
   "cell_type": "code",
   "execution_count": 12,
   "metadata": {},
   "outputs": [
    {
     "data": {
      "text/plain": [
       "<lightfm.lightfm.LightFM at 0x7f2c71f12160>"
      ]
     },
     "execution_count": 12,
     "metadata": {},
     "output_type": "execute_result"
    }
   ],
   "source": [
    "model = LightFM(**best_parameters)\n",
    "model.fit(sparse_train_all,\n",
    "            epochs=15,\n",
    "            num_threads=30)"
   ]
  },
  {
   "cell_type": "code",
   "execution_count": 13,
   "metadata": {},
   "outputs": [],
   "source": [
    "def select_cold_start(user_games, threshold=3): \n",
    "    df = user_games.groupby('user')['rating'].sum()\n",
    "    df = df.loc[df.values <= threshold]\n",
    "    return df.index"
   ]
  },
  {
   "cell_type": "code",
   "execution_count": 14,
   "metadata": {},
   "outputs": [],
   "source": [
    "def select_hot_start(user_games, threshold=40): \n",
    "    df = user_games.groupby('user')['rating'].sum()\n",
    "    df = df.loc[df.values >= threshold]\n",
    "    return df.index"
   ]
  },
  {
   "cell_type": "code",
   "execution_count": 15,
   "metadata": {},
   "outputs": [],
   "source": [
    "cold_start_users = select_cold_start(train_val, 5)\n",
    "interactions_test_cold_start = interactions_test.copy()\n",
    "interactions_test_cold_start.loc[~interactions_test_cold_start.index.isin(cold_start_users), :] = 0"
   ]
  },
  {
   "cell_type": "code",
   "execution_count": 16,
   "metadata": {},
   "outputs": [
    {
     "name": "stdout",
     "output_type": "stream",
     "text": [
      "AUC: test 0.929.\n"
     ]
    }
   ],
   "source": [
    "test_auc = auc_score(model, csr_matrix(interactions_test_cold_start), csr_matrix(interactions_train_all), num_threads=16).mean()\n",
    "print('AUC: test %.3f.' % (test_auc))"
   ]
  },
  {
   "cell_type": "code",
   "execution_count": 32,
   "metadata": {},
   "outputs": [],
   "source": [
    "hot_start_users = select_hot_start(train_val, 30)\n",
    "interactions_test_hot_start = interactions_test.copy()\n",
    "interactions_test_hot_start.loc[~interactions_test_hot_start.index.isin(hot_start_users), :] = 0"
   ]
  },
  {
   "cell_type": "code",
   "execution_count": 33,
   "metadata": {},
   "outputs": [
    {
     "name": "stdout",
     "output_type": "stream",
     "text": [
      "AUC: test 0.887.\n"
     ]
    }
   ],
   "source": [
    "test_auc = auc_score(model, csr_matrix(interactions_test_hot_start), csr_matrix(interactions_train_all), num_threads=16).mean()\n",
    "print('AUC: test %.3f.' % (test_auc))"
   ]
  },
  {
   "cell_type": "code",
   "execution_count": 34,
   "metadata": {},
   "outputs": [],
   "source": [
    "interactions_full_cold_start = interactions_full.copy()\n",
    "interactions_full_cold_start.loc[~interactions_full_cold_start.index.isin(cold_start_users), :] = 0\n",
    "full_games_cold = interactions_full_cold_start.sum(axis=0)\n",
    "cold_start_game_list = full_games_cold.loc[test_games_cold.values > 0].sort_values(ascending=False)"
   ]
  },
  {
   "cell_type": "code",
   "execution_count": 35,
   "metadata": {},
   "outputs": [],
   "source": [
    "interactions_full_hot_start = interactions_full.copy()\n",
    "interactions_full_hot_start.loc[~interactions_full_hot_start.index.isin(hot_start_users), :] = 0\n",
    "full_games_hot = interactions_full_hot_start.sum(axis=0)\n",
    "hot_start_game_list = full_games_hot.loc[full_games_hot.values > 0].sort_values(ascending=False)"
   ]
  },
  {
   "cell_type": "markdown",
   "metadata": {},
   "source": [
    "### Plot Distribution"
   ]
  },
  {
   "cell_type": "code",
   "execution_count": 42,
   "metadata": {},
   "outputs": [
    {
     "data": {
      "text/plain": [
       "Text(0.5, 0, 'Sorted by Game Popularity')"
      ]
     },
     "execution_count": 42,
     "metadata": {},
     "output_type": "execute_result"
    },
    {
     "data": {
      "image/png": "[encoded data removed]",
      "text/plain": [
       "<Figure size 432x288 with 1 Axes>"
      ]
     },
     "metadata": {
      "needs_background": "light"
     },
     "output_type": "display_data"
    }
   ],
   "source": [
    "plt.bar(cold_start_game_list[:200].index,cold_start_game_list[:200].values)\n",
    "plt.xticks([])\n",
    "plt.title('Cold Start Users Game Distribution (=< 5 games)')\n",
    "plt.xlabel('Sorted by Game Popularity')"
   ]
  },
  {
   "cell_type": "code",
   "execution_count": 43,
   "metadata": {},
   "outputs": [
    {
     "data": {
      "text/plain": [
       "Text(0.5, 0, 'Sorted by Game Popularity')"
      ]
     },
     "execution_count": 43,
     "metadata": {},
     "output_type": "execute_result"
    },
    {
     "data": {
      "image/png": "[encoded data removed]",
      "text/plain": [
       "<Figure size 432x288 with 1 Axes>"
      ]
     },
     "metadata": {
      "needs_background": "light"
     },
     "output_type": "display_data"
    }
   ],
   "source": [
    "plt.bar(hot_start_game_list[:200].index,hot_start_game_list[:200].values)\n",
    "plt.xticks([])\n",
    "plt.title('Hot Start Users Game Distribution (>= 40 games)')\n",
    "plt.xlabel('Sorted by Game Popularity')"
   ]
  },
  {
   "cell_type": "markdown",
   "metadata": {},
   "source": [
    "### Plot Per User"
   ]
  },
  {
   "cell_type": "code",
   "execution_count": 21,
   "metadata": {},
   "outputs": [],
   "source": [
    "def select_cold_start_exact(user_games, threshold=3): \n",
    "    df = user_games.groupby('user')['rating'].sum()\n",
    "    df = df.loc[df.values == threshold]\n",
    "    return df.index"
   ]
  },
  {
   "cell_type": "code",
   "execution_count": null,
   "metadata": {},
   "outputs": [],
   "source": [
    "cold_start_values = []\n",
    "\n",
    "for i in range(2,150):\n",
    "    cold_start_users = select_cold_start_exact(train_val, i)\n",
    "    interactions_test_cold_start = interactions_test.copy()\n",
    "    interactions_test_cold_start.loc[~interactions_test_cold_start.index.isin(cold_start_users), :] = 0\n",
    "    test_auc = auc_score(model, csr_matrix(interactions_test_cold_start), csr_matrix(interactions_train_all), num_threads=16).mean()\n",
    "    cold_start_values.append((i,test_auc))\n",
    "    print('AUC: test %.3f.' % (test_auc))"
   ]
  },
  {
   "cell_type": "code",
   "execution_count": 52,
   "metadata": {},
   "outputs": [
    {
     "data": {
      "image/png": "[encoded data removed]",
      "text/plain": [
       "<Figure size 1152x576 with 1 Axes>"
      ]
     },
     "metadata": {
      "needs_background": "light"
     },
     "output_type": "display_data"
    }
   ],
   "source": [
    "x = [i[0] for i in cold_start_values]\n",
    "y = [i[1] for i in cold_start_values]\n",
    "plt.plot(x, y)\n",
    "plt.rcParams[\"figure.figsize\"] = [16,8]\n",
    "plt.xlabel('Number of Games in Train Set')\n",
    "plt.ylabel('AUC')\n",
    "plt.title('Model Performance by User Coldness')\n",
    "plt.grid()"
   ]
  },
  {
   "cell_type": "markdown",
   "metadata": {},
   "source": [
    "## Most Popular Games"
   ]
  },
  {
   "cell_type": "code",
   "execution_count": 1,
   "metadata": {},
   "outputs": [],
   "source": [
    "def sort_popular_games(df):\n",
    "    item_count_df = df.loc[df['rating'] == 1].groupby('item').count()\n",
    "    return item_count_df.sort_values('rating', ascending=False)"
   ]
  },
  {
   "cell_type": "code",
   "execution_count": 2,
   "metadata": {},
   "outputs": [],
   "source": [
    "def sort_user_owns(df):\n",
    "    user_count_df = df.loc[df['rating'] == 1].groupby('user').count()\n",
    "    return user_count_df.sort_values('rating', ascending=False)"
   ]
  },
  {
   "cell_type": "code",
   "execution_count": 68,
   "metadata": {},
   "outputs": [],
   "source": [
    "popular_games = sort_popular_games(user_top_games)"
   ]
  },
  {
   "cell_type": "code",
   "execution_count": 70,
   "metadata": {},
   "outputs": [],
   "source": [
    "user_owns = sort_user_owns(user_top_games)"
   ]
  },
  {
   "cell_type": "code",
   "execution_count": 71,
   "metadata": {},
   "outputs": [
    {
     "data": {
      "text/html": [
       "<div>\n",
       "<style scoped>\n",
       "    .dataframe tbody tr th:only-of-type {\n",
       "        vertical-align: middle;\n",
       "    }\n",
       "\n",
       "    .dataframe tbody tr th {\n",
       "        vertical-align: top;\n",
       "    }\n",
       "\n",
       "    .dataframe thead th {\n",
       "        text-align: right;\n",
       "    }\n",
       "</style>\n",
       "<table border=\"1\" class=\"dataframe\">\n",
       "  <thead>\n",
       "    <tr style=\"text-align: right;\">\n",
       "      <th></th>\n",
       "      <th>item</th>\n",
       "      <th>rating</th>\n",
       "    </tr>\n",
       "    <tr>\n",
       "      <th>user</th>\n",
       "      <th></th>\n",
       "      <th></th>\n",
       "    </tr>\n",
       "  </thead>\n",
       "  <tbody>\n",
       "    <tr>\n",
       "      <th>piepai</th>\n",
       "      <td>935</td>\n",
       "      <td>935</td>\n",
       "    </tr>\n",
       "    <tr>\n",
       "      <th>phrostb</th>\n",
       "      <td>935</td>\n",
       "      <td>935</td>\n",
       "    </tr>\n",
       "    <tr>\n",
       "      <th>chidvd</th>\n",
       "      <td>923</td>\n",
       "      <td>923</td>\n",
       "    </tr>\n",
       "    <tr>\n",
       "      <th>Steamified</th>\n",
       "      <td>857</td>\n",
       "      <td>857</td>\n",
       "    </tr>\n",
       "    <tr>\n",
       "      <th>DeEggMeister</th>\n",
       "      <td>849</td>\n",
       "      <td>849</td>\n",
       "    </tr>\n",
       "    <tr>\n",
       "      <th>76561197975369524</th>\n",
       "      <td>833</td>\n",
       "      <td>833</td>\n",
       "    </tr>\n",
       "    <tr>\n",
       "      <th>thugnificent</th>\n",
       "      <td>827</td>\n",
       "      <td>827</td>\n",
       "    </tr>\n",
       "    <tr>\n",
       "      <th>76561197983589335</th>\n",
       "      <td>793</td>\n",
       "      <td>793</td>\n",
       "    </tr>\n",
       "    <tr>\n",
       "      <th>proletar666</th>\n",
       "      <td>789</td>\n",
       "      <td>789</td>\n",
       "    </tr>\n",
       "    <tr>\n",
       "      <th>krisx</th>\n",
       "      <td>783</td>\n",
       "      <td>783</td>\n",
       "    </tr>\n",
       "    <tr>\n",
       "      <th>fearlesskeeper</th>\n",
       "      <td>723</td>\n",
       "      <td>723</td>\n",
       "    </tr>\n",
       "    <tr>\n",
       "      <th>76561197985797191</th>\n",
       "      <td>701</td>\n",
       "      <td>701</td>\n",
       "    </tr>\n",
       "    <tr>\n",
       "      <th>kitty_47</th>\n",
       "      <td>694</td>\n",
       "      <td>694</td>\n",
       "    </tr>\n",
       "    <tr>\n",
       "      <th>djnemonic</th>\n",
       "      <td>689</td>\n",
       "      <td>689</td>\n",
       "    </tr>\n",
       "    <tr>\n",
       "      <th>Heckler_Tepes</th>\n",
       "      <td>680</td>\n",
       "      <td>680</td>\n",
       "    </tr>\n",
       "    <tr>\n",
       "      <th>goldghost</th>\n",
       "      <td>673</td>\n",
       "      <td>673</td>\n",
       "    </tr>\n",
       "    <tr>\n",
       "      <th>stuntaneous</th>\n",
       "      <td>671</td>\n",
       "      <td>671</td>\n",
       "    </tr>\n",
       "    <tr>\n",
       "      <th>mayshowganmore</th>\n",
       "      <td>663</td>\n",
       "      <td>663</td>\n",
       "    </tr>\n",
       "    <tr>\n",
       "      <th>76561198070585472</th>\n",
       "      <td>654</td>\n",
       "      <td>654</td>\n",
       "    </tr>\n",
       "    <tr>\n",
       "      <th>geekmannerd</th>\n",
       "      <td>650</td>\n",
       "      <td>650</td>\n",
       "    </tr>\n",
       "    <tr>\n",
       "      <th>icantwait</th>\n",
       "      <td>649</td>\n",
       "      <td>649</td>\n",
       "    </tr>\n",
       "    <tr>\n",
       "      <th>76561197967469174</th>\n",
       "      <td>648</td>\n",
       "      <td>648</td>\n",
       "    </tr>\n",
       "    <tr>\n",
       "      <th>76561198045884541</th>\n",
       "      <td>648</td>\n",
       "      <td>648</td>\n",
       "    </tr>\n",
       "    <tr>\n",
       "      <th>mda7</th>\n",
       "      <td>648</td>\n",
       "      <td>648</td>\n",
       "    </tr>\n",
       "    <tr>\n",
       "      <th>rawrvixen</th>\n",
       "      <td>647</td>\n",
       "      <td>647</td>\n",
       "    </tr>\n",
       "    <tr>\n",
       "      <th>idonothack</th>\n",
       "      <td>639</td>\n",
       "      <td>639</td>\n",
       "    </tr>\n",
       "    <tr>\n",
       "      <th>akministrator</th>\n",
       "      <td>638</td>\n",
       "      <td>638</td>\n",
       "    </tr>\n",
       "    <tr>\n",
       "      <th>76561198067911521</th>\n",
       "      <td>629</td>\n",
       "      <td>629</td>\n",
       "    </tr>\n",
       "    <tr>\n",
       "      <th>76561197981203305</th>\n",
       "      <td>629</td>\n",
       "      <td>629</td>\n",
       "    </tr>\n",
       "    <tr>\n",
       "      <th>76561197970580235</th>\n",
       "      <td>627</td>\n",
       "      <td>627</td>\n",
       "    </tr>\n",
       "    <tr>\n",
       "      <th>...</th>\n",
       "      <td>...</td>\n",
       "      <td>...</td>\n",
       "    </tr>\n",
       "    <tr>\n",
       "      <th>76561198053732776</th>\n",
       "      <td>1</td>\n",
       "      <td>1</td>\n",
       "    </tr>\n",
       "    <tr>\n",
       "      <th>76561198085035722</th>\n",
       "      <td>1</td>\n",
       "      <td>1</td>\n",
       "    </tr>\n",
       "    <tr>\n",
       "      <th>jiohigHfuyuCYgaupchg</th>\n",
       "      <td>1</td>\n",
       "      <td>1</td>\n",
       "    </tr>\n",
       "    <tr>\n",
       "      <th>76561198053367309</th>\n",
       "      <td>1</td>\n",
       "      <td>1</td>\n",
       "    </tr>\n",
       "    <tr>\n",
       "      <th>76561198085160604</th>\n",
       "      <td>1</td>\n",
       "      <td>1</td>\n",
       "    </tr>\n",
       "    <tr>\n",
       "      <th>76561198053306776</th>\n",
       "      <td>1</td>\n",
       "      <td>1</td>\n",
       "    </tr>\n",
       "    <tr>\n",
       "      <th>josephgeddes</th>\n",
       "      <td>1</td>\n",
       "      <td>1</td>\n",
       "    </tr>\n",
       "    <tr>\n",
       "      <th>76561198053008884</th>\n",
       "      <td>1</td>\n",
       "      <td>1</td>\n",
       "    </tr>\n",
       "    <tr>\n",
       "      <th>76561198053045877</th>\n",
       "      <td>1</td>\n",
       "      <td>1</td>\n",
       "    </tr>\n",
       "    <tr>\n",
       "      <th>76561198085261848</th>\n",
       "      <td>1</td>\n",
       "      <td>1</td>\n",
       "    </tr>\n",
       "    <tr>\n",
       "      <th>76561198053060941</th>\n",
       "      <td>1</td>\n",
       "      <td>1</td>\n",
       "    </tr>\n",
       "    <tr>\n",
       "      <th>76561198053075434</th>\n",
       "      <td>1</td>\n",
       "      <td>1</td>\n",
       "    </tr>\n",
       "    <tr>\n",
       "      <th>76561198053086530</th>\n",
       "      <td>1</td>\n",
       "      <td>1</td>\n",
       "    </tr>\n",
       "    <tr>\n",
       "      <th>76561198085241579</th>\n",
       "      <td>1</td>\n",
       "      <td>1</td>\n",
       "    </tr>\n",
       "    <tr>\n",
       "      <th>76561198085236799</th>\n",
       "      <td>1</td>\n",
       "      <td>1</td>\n",
       "    </tr>\n",
       "    <tr>\n",
       "      <th>76561198085229751</th>\n",
       "      <td>1</td>\n",
       "      <td>1</td>\n",
       "    </tr>\n",
       "    <tr>\n",
       "      <th>76561198085205459</th>\n",
       "      <td>1</td>\n",
       "      <td>1</td>\n",
       "    </tr>\n",
       "    <tr>\n",
       "      <th>76561198085201516</th>\n",
       "      <td>1</td>\n",
       "      <td>1</td>\n",
       "    </tr>\n",
       "    <tr>\n",
       "      <th>76561198085169011</th>\n",
       "      <td>1</td>\n",
       "      <td>1</td>\n",
       "    </tr>\n",
       "    <tr>\n",
       "      <th>76561198085194786</th>\n",
       "      <td>1</td>\n",
       "      <td>1</td>\n",
       "    </tr>\n",
       "    <tr>\n",
       "      <th>76561198085194311</th>\n",
       "      <td>1</td>\n",
       "      <td>1</td>\n",
       "    </tr>\n",
       "    <tr>\n",
       "      <th>76561198085191182</th>\n",
       "      <td>1</td>\n",
       "      <td>1</td>\n",
       "    </tr>\n",
       "    <tr>\n",
       "      <th>76561198085185734</th>\n",
       "      <td>1</td>\n",
       "      <td>1</td>\n",
       "    </tr>\n",
       "    <tr>\n",
       "      <th>76561198085184317</th>\n",
       "      <td>1</td>\n",
       "      <td>1</td>\n",
       "    </tr>\n",
       "    <tr>\n",
       "      <th>76561198053243472</th>\n",
       "      <td>1</td>\n",
       "      <td>1</td>\n",
       "    </tr>\n",
       "    <tr>\n",
       "      <th>76561198085179876</th>\n",
       "      <td>1</td>\n",
       "      <td>1</td>\n",
       "    </tr>\n",
       "    <tr>\n",
       "      <th>76561198053292523</th>\n",
       "      <td>1</td>\n",
       "      <td>1</td>\n",
       "    </tr>\n",
       "    <tr>\n",
       "      <th>76561198085177627</th>\n",
       "      <td>1</td>\n",
       "      <td>1</td>\n",
       "    </tr>\n",
       "    <tr>\n",
       "      <th>76561198085170588</th>\n",
       "      <td>1</td>\n",
       "      <td>1</td>\n",
       "    </tr>\n",
       "    <tr>\n",
       "      <th>76561198084514998</th>\n",
       "      <td>1</td>\n",
       "      <td>1</td>\n",
       "    </tr>\n",
       "  </tbody>\n",
       "</table>\n",
       "<p>65792 rows × 2 columns</p>\n",
       "</div>"
      ],
      "text/plain": [
       "                      item  rating\n",
       "user                              \n",
       "piepai                 935     935\n",
       "phrostb                935     935\n",
       "chidvd                 923     923\n",
       "Steamified             857     857\n",
       "DeEggMeister           849     849\n",
       "76561197975369524      833     833\n",
       "thugnificent           827     827\n",
       "76561197983589335      793     793\n",
       "proletar666            789     789\n",
       "krisx                  783     783\n",
       "fearlesskeeper         723     723\n",
       "76561197985797191      701     701\n",
       "kitty_47               694     694\n",
       "djnemonic              689     689\n",
       "Heckler_Tepes          680     680\n",
       "goldghost              673     673\n",
       "stuntaneous            671     671\n",
       "mayshowganmore         663     663\n",
       "76561198070585472      654     654\n",
       "geekmannerd            650     650\n",
       "icantwait              649     649\n",
       "76561197967469174      648     648\n",
       "76561198045884541      648     648\n",
       "mda7                   648     648\n",
       "rawrvixen              647     647\n",
       "idonothack             639     639\n",
       "akministrator          638     638\n",
       "76561198067911521      629     629\n",
       "76561197981203305      629     629\n",
       "76561197970580235      627     627\n",
       "...                    ...     ...\n",
       "76561198053732776        1       1\n",
       "76561198085035722        1       1\n",
       "jiohigHfuyuCYgaupchg     1       1\n",
       "76561198053367309        1       1\n",
       "76561198085160604        1       1\n",
       "76561198053306776        1       1\n",
       "josephgeddes             1       1\n",
       "76561198053008884        1       1\n",
       "76561198053045877        1       1\n",
       "76561198085261848        1       1\n",
       "76561198053060941        1       1\n",
       "76561198053075434        1       1\n",
       "76561198053086530        1       1\n",
       "76561198085241579        1       1\n",
       "76561198085236799        1       1\n",
       "76561198085229751        1       1\n",
       "76561198085205459        1       1\n",
       "76561198085201516        1       1\n",
       "76561198085169011        1       1\n",
       "76561198085194786        1       1\n",
       "76561198085194311        1       1\n",
       "76561198085191182        1       1\n",
       "76561198085185734        1       1\n",
       "76561198085184317        1       1\n",
       "76561198053243472        1       1\n",
       "76561198085179876        1       1\n",
       "76561198053292523        1       1\n",
       "76561198085177627        1       1\n",
       "76561198085170588        1       1\n",
       "76561198084514998        1       1\n",
       "\n",
       "[65792 rows x 2 columns]"
      ]
     },
     "execution_count": 71,
     "metadata": {},
     "output_type": "execute_result"
    }
   ],
   "source": [
    "user_owns"
   ]
  },
  {
   "cell_type": "code",
   "execution_count": null,
   "metadata": {},
   "outputs": [],
   "source": []
  }
 ],
 "metadata": {
  "anaconda-cloud": {},
  "kernelspec": {
   "display_name": "Python 3",
   "language": "python",
   "name": "python3"
  },
  "language_info": {
   "codemirror_mode": {
    "name": "ipython",
    "version": 3
   },
   "file_extension": ".py",
   "mimetype": "text/x-python",
   "name": "python",
   "nbconvert_exporter": "python",
   "pygments_lexer": "ipython3",
   "version": "3.7.1"
  }
 },
 "nbformat": 4,
 "nbformat_minor": 2
}
