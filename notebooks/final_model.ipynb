{
 "cells": [
  {
   "cell_type": "code",
   "execution_count": 1,
   "metadata": {},
   "outputs": [],
   "source": [
    "import json\n",
    "import pickle as pkl\n",
    "import operator\n",
    "import time\n",
    "from collections import Counter\n",
    "from itertools import product\n",
    "import random\n",
    "\n",
    "import pandas as pd\n",
    "from pandas.io.json import json_normalize\n",
    "import numpy as np\n",
    "import scipy\n",
    "from scipy.sparse import csr_matrix\n",
    "from sklearn.model_selection import train_test_split, StratifiedKFold\n",
    "\n",
    "from lightfm import LightFM\n",
    "from lightfm.evaluation import precision_at_k\n",
    "from lightfm.evaluation import recall_at_k\n",
    "from lightfm.evaluation import auc_score\n",
    "from lightfm.evaluation import reciprocal_rank\n",
    "\n",
    "%run '../lib/cookbook/recsys.py'\n",
    "%run '../lib/cookbook/generic_preprocessing.py'\n",
    "%run '../lib/utility.py'\n",
    "\n",
    "from IPython.display import HTML ## Setting display options for Ipython Notebook"
   ]
  },
  {
   "cell_type": "markdown",
   "metadata": {},
   "source": [
    "## Reload Data"
   ]
  },
  {
   "cell_type": "code",
   "execution_count": 2,
   "metadata": {},
   "outputs": [],
   "source": [
    "## No Free Games\n",
    "user_top_games = pkl.load(open('../data/preprocessed_data/no_free_games/user_top_games.pkl', 'rb'))\n",
    "user_top_games_filtered_hours = pkl.load(open('../data/preprocessed_data/no_free_games/user_top_games_filtered_hours.pkl', 'rb'))\n",
    "user_top_games_filtered_percentile = pkl.load(open('../data/preprocessed_data/no_free_games/user_top_games_filtered_percentile.pkl', 'rb'))\n",
    "games = pkl.load(open('../data/preprocessed_data/no_free_games/games.pkl', 'rb'))"
   ]
  },
  {
   "cell_type": "markdown",
   "metadata": {},
   "source": [
    "## Train Test Split and Building Interaction Matrices"
   ]
  },
  {
   "cell_type": "code",
   "execution_count": 54,
   "metadata": {},
   "outputs": [],
   "source": [
    "def _color_red_or_green(val):\n",
    "    color = 'red' if val == 0 else 'green'\n",
    "    return 'background: %s' % color"
   ]
  },
  {
   "cell_type": "code",
   "execution_count": null,
   "metadata": {},
   "outputs": [],
   "source": []
  },
  {
   "cell_type": "code",
   "execution_count": 55,
   "metadata": {},
   "outputs": [],
   "source": [
    "users = random.sample(list(interactions_full_all.index),10)\n",
    "items = random.sample(list(interactions_full_all.columns),10)"
   ]
  },
  {
   "cell_type": "code",
   "execution_count": 56,
   "metadata": {},
   "outputs": [
    {
     "data": {
      "text/html": [
       "<style  type=\"text/css\" >\n",
       "    #T_041b11fa_88f2_11e9_a35f_61f2d459cc94row0_col0 {\n",
       "            background:  red;\n",
       "        }    #T_041b11fa_88f2_11e9_a35f_61f2d459cc94row0_col1 {\n",
       "            background:  red;\n",
       "        }    #T_041b11fa_88f2_11e9_a35f_61f2d459cc94row0_col2 {\n",
       "            background:  red;\n",
       "        }    #T_041b11fa_88f2_11e9_a35f_61f2d459cc94row0_col3 {\n",
       "            background:  red;\n",
       "        }    #T_041b11fa_88f2_11e9_a35f_61f2d459cc94row0_col4 {\n",
       "            background:  red;\n",
       "        }    #T_041b11fa_88f2_11e9_a35f_61f2d459cc94row0_col5 {\n",
       "            background:  red;\n",
       "        }    #T_041b11fa_88f2_11e9_a35f_61f2d459cc94row0_col6 {\n",
       "            background:  red;\n",
       "        }    #T_041b11fa_88f2_11e9_a35f_61f2d459cc94row0_col7 {\n",
       "            background:  red;\n",
       "        }    #T_041b11fa_88f2_11e9_a35f_61f2d459cc94row0_col8 {\n",
       "            background:  red;\n",
       "        }    #T_041b11fa_88f2_11e9_a35f_61f2d459cc94row0_col9 {\n",
       "            background:  red;\n",
       "        }    #T_041b11fa_88f2_11e9_a35f_61f2d459cc94row1_col0 {\n",
       "            background:  red;\n",
       "        }    #T_041b11fa_88f2_11e9_a35f_61f2d459cc94row1_col1 {\n",
       "            background:  red;\n",
       "        }    #T_041b11fa_88f2_11e9_a35f_61f2d459cc94row1_col2 {\n",
       "            background:  green;\n",
       "        }    #T_041b11fa_88f2_11e9_a35f_61f2d459cc94row1_col3 {\n",
       "            background:  red;\n",
       "        }    #T_041b11fa_88f2_11e9_a35f_61f2d459cc94row1_col4 {\n",
       "            background:  red;\n",
       "        }    #T_041b11fa_88f2_11e9_a35f_61f2d459cc94row1_col5 {\n",
       "            background:  red;\n",
       "        }    #T_041b11fa_88f2_11e9_a35f_61f2d459cc94row1_col6 {\n",
       "            background:  green;\n",
       "        }    #T_041b11fa_88f2_11e9_a35f_61f2d459cc94row1_col7 {\n",
       "            background:  red;\n",
       "        }    #T_041b11fa_88f2_11e9_a35f_61f2d459cc94row1_col8 {\n",
       "            background:  red;\n",
       "        }    #T_041b11fa_88f2_11e9_a35f_61f2d459cc94row1_col9 {\n",
       "            background:  red;\n",
       "        }    #T_041b11fa_88f2_11e9_a35f_61f2d459cc94row2_col0 {\n",
       "            background:  red;\n",
       "        }    #T_041b11fa_88f2_11e9_a35f_61f2d459cc94row2_col1 {\n",
       "            background:  red;\n",
       "        }    #T_041b11fa_88f2_11e9_a35f_61f2d459cc94row2_col2 {\n",
       "            background:  red;\n",
       "        }    #T_041b11fa_88f2_11e9_a35f_61f2d459cc94row2_col3 {\n",
       "            background:  red;\n",
       "        }    #T_041b11fa_88f2_11e9_a35f_61f2d459cc94row2_col4 {\n",
       "            background:  red;\n",
       "        }    #T_041b11fa_88f2_11e9_a35f_61f2d459cc94row2_col5 {\n",
       "            background:  red;\n",
       "        }    #T_041b11fa_88f2_11e9_a35f_61f2d459cc94row2_col6 {\n",
       "            background:  red;\n",
       "        }    #T_041b11fa_88f2_11e9_a35f_61f2d459cc94row2_col7 {\n",
       "            background:  red;\n",
       "        }    #T_041b11fa_88f2_11e9_a35f_61f2d459cc94row2_col8 {\n",
       "            background:  red;\n",
       "        }    #T_041b11fa_88f2_11e9_a35f_61f2d459cc94row2_col9 {\n",
       "            background:  red;\n",
       "        }    #T_041b11fa_88f2_11e9_a35f_61f2d459cc94row3_col0 {\n",
       "            background:  red;\n",
       "        }    #T_041b11fa_88f2_11e9_a35f_61f2d459cc94row3_col1 {\n",
       "            background:  red;\n",
       "        }    #T_041b11fa_88f2_11e9_a35f_61f2d459cc94row3_col2 {\n",
       "            background:  red;\n",
       "        }    #T_041b11fa_88f2_11e9_a35f_61f2d459cc94row3_col3 {\n",
       "            background:  red;\n",
       "        }    #T_041b11fa_88f2_11e9_a35f_61f2d459cc94row3_col4 {\n",
       "            background:  red;\n",
       "        }    #T_041b11fa_88f2_11e9_a35f_61f2d459cc94row3_col5 {\n",
       "            background:  red;\n",
       "        }    #T_041b11fa_88f2_11e9_a35f_61f2d459cc94row3_col6 {\n",
       "            background:  red;\n",
       "        }    #T_041b11fa_88f2_11e9_a35f_61f2d459cc94row3_col7 {\n",
       "            background:  red;\n",
       "        }    #T_041b11fa_88f2_11e9_a35f_61f2d459cc94row3_col8 {\n",
       "            background:  red;\n",
       "        }    #T_041b11fa_88f2_11e9_a35f_61f2d459cc94row3_col9 {\n",
       "            background:  red;\n",
       "        }    #T_041b11fa_88f2_11e9_a35f_61f2d459cc94row4_col0 {\n",
       "            background:  red;\n",
       "        }    #T_041b11fa_88f2_11e9_a35f_61f2d459cc94row4_col1 {\n",
       "            background:  red;\n",
       "        }    #T_041b11fa_88f2_11e9_a35f_61f2d459cc94row4_col2 {\n",
       "            background:  red;\n",
       "        }    #T_041b11fa_88f2_11e9_a35f_61f2d459cc94row4_col3 {\n",
       "            background:  green;\n",
       "        }    #T_041b11fa_88f2_11e9_a35f_61f2d459cc94row4_col4 {\n",
       "            background:  red;\n",
       "        }    #T_041b11fa_88f2_11e9_a35f_61f2d459cc94row4_col5 {\n",
       "            background:  red;\n",
       "        }    #T_041b11fa_88f2_11e9_a35f_61f2d459cc94row4_col6 {\n",
       "            background:  green;\n",
       "        }    #T_041b11fa_88f2_11e9_a35f_61f2d459cc94row4_col7 {\n",
       "            background:  red;\n",
       "        }    #T_041b11fa_88f2_11e9_a35f_61f2d459cc94row4_col8 {\n",
       "            background:  red;\n",
       "        }    #T_041b11fa_88f2_11e9_a35f_61f2d459cc94row4_col9 {\n",
       "            background:  red;\n",
       "        }    #T_041b11fa_88f2_11e9_a35f_61f2d459cc94row5_col0 {\n",
       "            background:  red;\n",
       "        }    #T_041b11fa_88f2_11e9_a35f_61f2d459cc94row5_col1 {\n",
       "            background:  red;\n",
       "        }    #T_041b11fa_88f2_11e9_a35f_61f2d459cc94row5_col2 {\n",
       "            background:  red;\n",
       "        }    #T_041b11fa_88f2_11e9_a35f_61f2d459cc94row5_col3 {\n",
       "            background:  red;\n",
       "        }    #T_041b11fa_88f2_11e9_a35f_61f2d459cc94row5_col4 {\n",
       "            background:  red;\n",
       "        }    #T_041b11fa_88f2_11e9_a35f_61f2d459cc94row5_col5 {\n",
       "            background:  red;\n",
       "        }    #T_041b11fa_88f2_11e9_a35f_61f2d459cc94row5_col6 {\n",
       "            background:  red;\n",
       "        }    #T_041b11fa_88f2_11e9_a35f_61f2d459cc94row5_col7 {\n",
       "            background:  red;\n",
       "        }    #T_041b11fa_88f2_11e9_a35f_61f2d459cc94row5_col8 {\n",
       "            background:  red;\n",
       "        }    #T_041b11fa_88f2_11e9_a35f_61f2d459cc94row5_col9 {\n",
       "            background:  red;\n",
       "        }    #T_041b11fa_88f2_11e9_a35f_61f2d459cc94row6_col0 {\n",
       "            background:  red;\n",
       "        }    #T_041b11fa_88f2_11e9_a35f_61f2d459cc94row6_col1 {\n",
       "            background:  green;\n",
       "        }    #T_041b11fa_88f2_11e9_a35f_61f2d459cc94row6_col2 {\n",
       "            background:  red;\n",
       "        }    #T_041b11fa_88f2_11e9_a35f_61f2d459cc94row6_col3 {\n",
       "            background:  red;\n",
       "        }    #T_041b11fa_88f2_11e9_a35f_61f2d459cc94row6_col4 {\n",
       "            background:  red;\n",
       "        }    #T_041b11fa_88f2_11e9_a35f_61f2d459cc94row6_col5 {\n",
       "            background:  red;\n",
       "        }    #T_041b11fa_88f2_11e9_a35f_61f2d459cc94row6_col6 {\n",
       "            background:  green;\n",
       "        }    #T_041b11fa_88f2_11e9_a35f_61f2d459cc94row6_col7 {\n",
       "            background:  red;\n",
       "        }    #T_041b11fa_88f2_11e9_a35f_61f2d459cc94row6_col8 {\n",
       "            background:  red;\n",
       "        }    #T_041b11fa_88f2_11e9_a35f_61f2d459cc94row6_col9 {\n",
       "            background:  red;\n",
       "        }    #T_041b11fa_88f2_11e9_a35f_61f2d459cc94row7_col0 {\n",
       "            background:  red;\n",
       "        }    #T_041b11fa_88f2_11e9_a35f_61f2d459cc94row7_col1 {\n",
       "            background:  red;\n",
       "        }    #T_041b11fa_88f2_11e9_a35f_61f2d459cc94row7_col2 {\n",
       "            background:  red;\n",
       "        }    #T_041b11fa_88f2_11e9_a35f_61f2d459cc94row7_col3 {\n",
       "            background:  red;\n",
       "        }    #T_041b11fa_88f2_11e9_a35f_61f2d459cc94row7_col4 {\n",
       "            background:  red;\n",
       "        }    #T_041b11fa_88f2_11e9_a35f_61f2d459cc94row7_col5 {\n",
       "            background:  red;\n",
       "        }    #T_041b11fa_88f2_11e9_a35f_61f2d459cc94row7_col6 {\n",
       "            background:  green;\n",
       "        }    #T_041b11fa_88f2_11e9_a35f_61f2d459cc94row7_col7 {\n",
       "            background:  red;\n",
       "        }    #T_041b11fa_88f2_11e9_a35f_61f2d459cc94row7_col8 {\n",
       "            background:  red;\n",
       "        }    #T_041b11fa_88f2_11e9_a35f_61f2d459cc94row7_col9 {\n",
       "            background:  red;\n",
       "        }    #T_041b11fa_88f2_11e9_a35f_61f2d459cc94row8_col0 {\n",
       "            background:  red;\n",
       "        }    #T_041b11fa_88f2_11e9_a35f_61f2d459cc94row8_col1 {\n",
       "            background:  red;\n",
       "        }    #T_041b11fa_88f2_11e9_a35f_61f2d459cc94row8_col2 {\n",
       "            background:  red;\n",
       "        }    #T_041b11fa_88f2_11e9_a35f_61f2d459cc94row8_col3 {\n",
       "            background:  red;\n",
       "        }    #T_041b11fa_88f2_11e9_a35f_61f2d459cc94row8_col4 {\n",
       "            background:  red;\n",
       "        }    #T_041b11fa_88f2_11e9_a35f_61f2d459cc94row8_col5 {\n",
       "            background:  red;\n",
       "        }    #T_041b11fa_88f2_11e9_a35f_61f2d459cc94row8_col6 {\n",
       "            background:  green;\n",
       "        }    #T_041b11fa_88f2_11e9_a35f_61f2d459cc94row8_col7 {\n",
       "            background:  red;\n",
       "        }    #T_041b11fa_88f2_11e9_a35f_61f2d459cc94row8_col8 {\n",
       "            background:  red;\n",
       "        }    #T_041b11fa_88f2_11e9_a35f_61f2d459cc94row8_col9 {\n",
       "            background:  red;\n",
       "        }    #T_041b11fa_88f2_11e9_a35f_61f2d459cc94row9_col0 {\n",
       "            background:  red;\n",
       "        }    #T_041b11fa_88f2_11e9_a35f_61f2d459cc94row9_col1 {\n",
       "            background:  red;\n",
       "        }    #T_041b11fa_88f2_11e9_a35f_61f2d459cc94row9_col2 {\n",
       "            background:  red;\n",
       "        }    #T_041b11fa_88f2_11e9_a35f_61f2d459cc94row9_col3 {\n",
       "            background:  red;\n",
       "        }    #T_041b11fa_88f2_11e9_a35f_61f2d459cc94row9_col4 {\n",
       "            background:  red;\n",
       "        }    #T_041b11fa_88f2_11e9_a35f_61f2d459cc94row9_col5 {\n",
       "            background:  red;\n",
       "        }    #T_041b11fa_88f2_11e9_a35f_61f2d459cc94row9_col6 {\n",
       "            background:  red;\n",
       "        }    #T_041b11fa_88f2_11e9_a35f_61f2d459cc94row9_col7 {\n",
       "            background:  red;\n",
       "        }    #T_041b11fa_88f2_11e9_a35f_61f2d459cc94row9_col8 {\n",
       "            background:  red;\n",
       "        }    #T_041b11fa_88f2_11e9_a35f_61f2d459cc94row9_col9 {\n",
       "            background:  red;\n",
       "        }</style>  \n",
       "<table id=\"T_041b11fa_88f2_11e9_a35f_61f2d459cc94\" > \n",
       "<thead>    <tr> \n",
       "        <th class=\"index_name level0\" >item</th> \n",
       "        <th class=\"col_heading level0 col0\" >Europa Universalis IV</th> \n",
       "        <th class=\"col_heading level0 col1\" >Hurtworld</th> \n",
       "        <th class=\"col_heading level0 col2\" >Interstellar Marines</th> \n",
       "        <th class=\"col_heading level0 col3\" >ORION</th> \n",
       "        <th class=\"col_heading level0 col4\" >Overlord: Raising Hell</th> \n",
       "        <th class=\"col_heading level0 col5\" >Strike Suit Zero</th> \n",
       "        <th class=\"col_heading level0 col6\" >Terraria</th> \n",
       "        <th class=\"col_heading level0 col7\" >The Elder Scrolls IV: Oblivion </th> \n",
       "        <th class=\"col_heading level0 col8\" >TowerFall Ascension</th> \n",
       "        <th class=\"col_heading level0 col9\" >Valiant Hearts: The Great War™ / Soldats Inconnus : Mémoires de la Grande Guerre™</th> \n",
       "    </tr>    <tr> \n",
       "        <th class=\"index_name level0\" >user</th> \n",
       "        <th class=\"blank\" ></th> \n",
       "        <th class=\"blank\" ></th> \n",
       "        <th class=\"blank\" ></th> \n",
       "        <th class=\"blank\" ></th> \n",
       "        <th class=\"blank\" ></th> \n",
       "        <th class=\"blank\" ></th> \n",
       "        <th class=\"blank\" ></th> \n",
       "        <th class=\"blank\" ></th> \n",
       "        <th class=\"blank\" ></th> \n",
       "        <th class=\"blank\" ></th> \n",
       "    </tr></thead> \n",
       "<tbody>    <tr> \n",
       "        <th id=\"T_041b11fa_88f2_11e9_a35f_61f2d459cc94level0_row0\" class=\"row_heading level0 row0\" >76561198040806617</th> \n",
       "        <td id=\"T_041b11fa_88f2_11e9_a35f_61f2d459cc94row0_col0\" class=\"data row0 col0\" >0</td> \n",
       "        <td id=\"T_041b11fa_88f2_11e9_a35f_61f2d459cc94row0_col1\" class=\"data row0 col1\" >0</td> \n",
       "        <td id=\"T_041b11fa_88f2_11e9_a35f_61f2d459cc94row0_col2\" class=\"data row0 col2\" >0</td> \n",
       "        <td id=\"T_041b11fa_88f2_11e9_a35f_61f2d459cc94row0_col3\" class=\"data row0 col3\" >0</td> \n",
       "        <td id=\"T_041b11fa_88f2_11e9_a35f_61f2d459cc94row0_col4\" class=\"data row0 col4\" >0</td> \n",
       "        <td id=\"T_041b11fa_88f2_11e9_a35f_61f2d459cc94row0_col5\" class=\"data row0 col5\" >0</td> \n",
       "        <td id=\"T_041b11fa_88f2_11e9_a35f_61f2d459cc94row0_col6\" class=\"data row0 col6\" >0</td> \n",
       "        <td id=\"T_041b11fa_88f2_11e9_a35f_61f2d459cc94row0_col7\" class=\"data row0 col7\" >0</td> \n",
       "        <td id=\"T_041b11fa_88f2_11e9_a35f_61f2d459cc94row0_col8\" class=\"data row0 col8\" >0</td> \n",
       "        <td id=\"T_041b11fa_88f2_11e9_a35f_61f2d459cc94row0_col9\" class=\"data row0 col9\" >0</td> \n",
       "    </tr>    <tr> \n",
       "        <th id=\"T_041b11fa_88f2_11e9_a35f_61f2d459cc94level0_row1\" class=\"row_heading level0 row1\" >76561198071059521</th> \n",
       "        <td id=\"T_041b11fa_88f2_11e9_a35f_61f2d459cc94row1_col0\" class=\"data row1 col0\" >0</td> \n",
       "        <td id=\"T_041b11fa_88f2_11e9_a35f_61f2d459cc94row1_col1\" class=\"data row1 col1\" >0</td> \n",
       "        <td id=\"T_041b11fa_88f2_11e9_a35f_61f2d459cc94row1_col2\" class=\"data row1 col2\" >1</td> \n",
       "        <td id=\"T_041b11fa_88f2_11e9_a35f_61f2d459cc94row1_col3\" class=\"data row1 col3\" >0</td> \n",
       "        <td id=\"T_041b11fa_88f2_11e9_a35f_61f2d459cc94row1_col4\" class=\"data row1 col4\" >0</td> \n",
       "        <td id=\"T_041b11fa_88f2_11e9_a35f_61f2d459cc94row1_col5\" class=\"data row1 col5\" >0</td> \n",
       "        <td id=\"T_041b11fa_88f2_11e9_a35f_61f2d459cc94row1_col6\" class=\"data row1 col6\" >1</td> \n",
       "        <td id=\"T_041b11fa_88f2_11e9_a35f_61f2d459cc94row1_col7\" class=\"data row1 col7\" >0</td> \n",
       "        <td id=\"T_041b11fa_88f2_11e9_a35f_61f2d459cc94row1_col8\" class=\"data row1 col8\" >0</td> \n",
       "        <td id=\"T_041b11fa_88f2_11e9_a35f_61f2d459cc94row1_col9\" class=\"data row1 col9\" >0</td> \n",
       "    </tr>    <tr> \n",
       "        <th id=\"T_041b11fa_88f2_11e9_a35f_61f2d459cc94level0_row2\" class=\"row_heading level0 row2\" >76561198077795250</th> \n",
       "        <td id=\"T_041b11fa_88f2_11e9_a35f_61f2d459cc94row2_col0\" class=\"data row2 col0\" >0</td> \n",
       "        <td id=\"T_041b11fa_88f2_11e9_a35f_61f2d459cc94row2_col1\" class=\"data row2 col1\" >0</td> \n",
       "        <td id=\"T_041b11fa_88f2_11e9_a35f_61f2d459cc94row2_col2\" class=\"data row2 col2\" >0</td> \n",
       "        <td id=\"T_041b11fa_88f2_11e9_a35f_61f2d459cc94row2_col3\" class=\"data row2 col3\" >0</td> \n",
       "        <td id=\"T_041b11fa_88f2_11e9_a35f_61f2d459cc94row2_col4\" class=\"data row2 col4\" >0</td> \n",
       "        <td id=\"T_041b11fa_88f2_11e9_a35f_61f2d459cc94row2_col5\" class=\"data row2 col5\" >0</td> \n",
       "        <td id=\"T_041b11fa_88f2_11e9_a35f_61f2d459cc94row2_col6\" class=\"data row2 col6\" >0</td> \n",
       "        <td id=\"T_041b11fa_88f2_11e9_a35f_61f2d459cc94row2_col7\" class=\"data row2 col7\" >0</td> \n",
       "        <td id=\"T_041b11fa_88f2_11e9_a35f_61f2d459cc94row2_col8\" class=\"data row2 col8\" >0</td> \n",
       "        <td id=\"T_041b11fa_88f2_11e9_a35f_61f2d459cc94row2_col9\" class=\"data row2 col9\" >0</td> \n",
       "    </tr>    <tr> \n",
       "        <th id=\"T_041b11fa_88f2_11e9_a35f_61f2d459cc94level0_row3\" class=\"row_heading level0 row3\" >76561198093085776</th> \n",
       "        <td id=\"T_041b11fa_88f2_11e9_a35f_61f2d459cc94row3_col0\" class=\"data row3 col0\" >0</td> \n",
       "        <td id=\"T_041b11fa_88f2_11e9_a35f_61f2d459cc94row3_col1\" class=\"data row3 col1\" >0</td> \n",
       "        <td id=\"T_041b11fa_88f2_11e9_a35f_61f2d459cc94row3_col2\" class=\"data row3 col2\" >0</td> \n",
       "        <td id=\"T_041b11fa_88f2_11e9_a35f_61f2d459cc94row3_col3\" class=\"data row3 col3\" >0</td> \n",
       "        <td id=\"T_041b11fa_88f2_11e9_a35f_61f2d459cc94row3_col4\" class=\"data row3 col4\" >0</td> \n",
       "        <td id=\"T_041b11fa_88f2_11e9_a35f_61f2d459cc94row3_col5\" class=\"data row3 col5\" >0</td> \n",
       "        <td id=\"T_041b11fa_88f2_11e9_a35f_61f2d459cc94row3_col6\" class=\"data row3 col6\" >0</td> \n",
       "        <td id=\"T_041b11fa_88f2_11e9_a35f_61f2d459cc94row3_col7\" class=\"data row3 col7\" >0</td> \n",
       "        <td id=\"T_041b11fa_88f2_11e9_a35f_61f2d459cc94row3_col8\" class=\"data row3 col8\" >0</td> \n",
       "        <td id=\"T_041b11fa_88f2_11e9_a35f_61f2d459cc94row3_col9\" class=\"data row3 col9\" >0</td> \n",
       "    </tr>    <tr> \n",
       "        <th id=\"T_041b11fa_88f2_11e9_a35f_61f2d459cc94level0_row4\" class=\"row_heading level0 row4\" >76561198096850767</th> \n",
       "        <td id=\"T_041b11fa_88f2_11e9_a35f_61f2d459cc94row4_col0\" class=\"data row4 col0\" >0</td> \n",
       "        <td id=\"T_041b11fa_88f2_11e9_a35f_61f2d459cc94row4_col1\" class=\"data row4 col1\" >0</td> \n",
       "        <td id=\"T_041b11fa_88f2_11e9_a35f_61f2d459cc94row4_col2\" class=\"data row4 col2\" >0</td> \n",
       "        <td id=\"T_041b11fa_88f2_11e9_a35f_61f2d459cc94row4_col3\" class=\"data row4 col3\" >1</td> \n",
       "        <td id=\"T_041b11fa_88f2_11e9_a35f_61f2d459cc94row4_col4\" class=\"data row4 col4\" >0</td> \n",
       "        <td id=\"T_041b11fa_88f2_11e9_a35f_61f2d459cc94row4_col5\" class=\"data row4 col5\" >0</td> \n",
       "        <td id=\"T_041b11fa_88f2_11e9_a35f_61f2d459cc94row4_col6\" class=\"data row4 col6\" >1</td> \n",
       "        <td id=\"T_041b11fa_88f2_11e9_a35f_61f2d459cc94row4_col7\" class=\"data row4 col7\" >0</td> \n",
       "        <td id=\"T_041b11fa_88f2_11e9_a35f_61f2d459cc94row4_col8\" class=\"data row4 col8\" >0</td> \n",
       "        <td id=\"T_041b11fa_88f2_11e9_a35f_61f2d459cc94row4_col9\" class=\"data row4 col9\" >0</td> \n",
       "    </tr>    <tr> \n",
       "        <th id=\"T_041b11fa_88f2_11e9_a35f_61f2d459cc94level0_row5\" class=\"row_heading level0 row5\" >Hueheueeheuee</th> \n",
       "        <td id=\"T_041b11fa_88f2_11e9_a35f_61f2d459cc94row5_col0\" class=\"data row5 col0\" >0</td> \n",
       "        <td id=\"T_041b11fa_88f2_11e9_a35f_61f2d459cc94row5_col1\" class=\"data row5 col1\" >0</td> \n",
       "        <td id=\"T_041b11fa_88f2_11e9_a35f_61f2d459cc94row5_col2\" class=\"data row5 col2\" >0</td> \n",
       "        <td id=\"T_041b11fa_88f2_11e9_a35f_61f2d459cc94row5_col3\" class=\"data row5 col3\" >0</td> \n",
       "        <td id=\"T_041b11fa_88f2_11e9_a35f_61f2d459cc94row5_col4\" class=\"data row5 col4\" >0</td> \n",
       "        <td id=\"T_041b11fa_88f2_11e9_a35f_61f2d459cc94row5_col5\" class=\"data row5 col5\" >0</td> \n",
       "        <td id=\"T_041b11fa_88f2_11e9_a35f_61f2d459cc94row5_col6\" class=\"data row5 col6\" >0</td> \n",
       "        <td id=\"T_041b11fa_88f2_11e9_a35f_61f2d459cc94row5_col7\" class=\"data row5 col7\" >0</td> \n",
       "        <td id=\"T_041b11fa_88f2_11e9_a35f_61f2d459cc94row5_col8\" class=\"data row5 col8\" >0</td> \n",
       "        <td id=\"T_041b11fa_88f2_11e9_a35f_61f2d459cc94row5_col9\" class=\"data row5 col9\" >0</td> \n",
       "    </tr>    <tr> \n",
       "        <th id=\"T_041b11fa_88f2_11e9_a35f_61f2d459cc94level0_row6\" class=\"row_heading level0 row6\" >Vladimirputinisgreatman</th> \n",
       "        <td id=\"T_041b11fa_88f2_11e9_a35f_61f2d459cc94row6_col0\" class=\"data row6 col0\" >0</td> \n",
       "        <td id=\"T_041b11fa_88f2_11e9_a35f_61f2d459cc94row6_col1\" class=\"data row6 col1\" >1</td> \n",
       "        <td id=\"T_041b11fa_88f2_11e9_a35f_61f2d459cc94row6_col2\" class=\"data row6 col2\" >0</td> \n",
       "        <td id=\"T_041b11fa_88f2_11e9_a35f_61f2d459cc94row6_col3\" class=\"data row6 col3\" >0</td> \n",
       "        <td id=\"T_041b11fa_88f2_11e9_a35f_61f2d459cc94row6_col4\" class=\"data row6 col4\" >0</td> \n",
       "        <td id=\"T_041b11fa_88f2_11e9_a35f_61f2d459cc94row6_col5\" class=\"data row6 col5\" >0</td> \n",
       "        <td id=\"T_041b11fa_88f2_11e9_a35f_61f2d459cc94row6_col6\" class=\"data row6 col6\" >1</td> \n",
       "        <td id=\"T_041b11fa_88f2_11e9_a35f_61f2d459cc94row6_col7\" class=\"data row6 col7\" >0</td> \n",
       "        <td id=\"T_041b11fa_88f2_11e9_a35f_61f2d459cc94row6_col8\" class=\"data row6 col8\" >0</td> \n",
       "        <td id=\"T_041b11fa_88f2_11e9_a35f_61f2d459cc94row6_col9\" class=\"data row6 col9\" >0</td> \n",
       "    </tr>    <tr> \n",
       "        <th id=\"T_041b11fa_88f2_11e9_a35f_61f2d459cc94level0_row7\" class=\"row_heading level0 row7\" >pinkie10</th> \n",
       "        <td id=\"T_041b11fa_88f2_11e9_a35f_61f2d459cc94row7_col0\" class=\"data row7 col0\" >0</td> \n",
       "        <td id=\"T_041b11fa_88f2_11e9_a35f_61f2d459cc94row7_col1\" class=\"data row7 col1\" >0</td> \n",
       "        <td id=\"T_041b11fa_88f2_11e9_a35f_61f2d459cc94row7_col2\" class=\"data row7 col2\" >0</td> \n",
       "        <td id=\"T_041b11fa_88f2_11e9_a35f_61f2d459cc94row7_col3\" class=\"data row7 col3\" >0</td> \n",
       "        <td id=\"T_041b11fa_88f2_11e9_a35f_61f2d459cc94row7_col4\" class=\"data row7 col4\" >0</td> \n",
       "        <td id=\"T_041b11fa_88f2_11e9_a35f_61f2d459cc94row7_col5\" class=\"data row7 col5\" >0</td> \n",
       "        <td id=\"T_041b11fa_88f2_11e9_a35f_61f2d459cc94row7_col6\" class=\"data row7 col6\" >1</td> \n",
       "        <td id=\"T_041b11fa_88f2_11e9_a35f_61f2d459cc94row7_col7\" class=\"data row7 col7\" >0</td> \n",
       "        <td id=\"T_041b11fa_88f2_11e9_a35f_61f2d459cc94row7_col8\" class=\"data row7 col8\" >0</td> \n",
       "        <td id=\"T_041b11fa_88f2_11e9_a35f_61f2d459cc94row7_col9\" class=\"data row7 col9\" >0</td> \n",
       "    </tr>    <tr> \n",
       "        <th id=\"T_041b11fa_88f2_11e9_a35f_61f2d459cc94level0_row8\" class=\"row_heading level0 row8\" >sonnymack</th> \n",
       "        <td id=\"T_041b11fa_88f2_11e9_a35f_61f2d459cc94row8_col0\" class=\"data row8 col0\" >0</td> \n",
       "        <td id=\"T_041b11fa_88f2_11e9_a35f_61f2d459cc94row8_col1\" class=\"data row8 col1\" >0</td> \n",
       "        <td id=\"T_041b11fa_88f2_11e9_a35f_61f2d459cc94row8_col2\" class=\"data row8 col2\" >0</td> \n",
       "        <td id=\"T_041b11fa_88f2_11e9_a35f_61f2d459cc94row8_col3\" class=\"data row8 col3\" >0</td> \n",
       "        <td id=\"T_041b11fa_88f2_11e9_a35f_61f2d459cc94row8_col4\" class=\"data row8 col4\" >0</td> \n",
       "        <td id=\"T_041b11fa_88f2_11e9_a35f_61f2d459cc94row8_col5\" class=\"data row8 col5\" >0</td> \n",
       "        <td id=\"T_041b11fa_88f2_11e9_a35f_61f2d459cc94row8_col6\" class=\"data row8 col6\" >1</td> \n",
       "        <td id=\"T_041b11fa_88f2_11e9_a35f_61f2d459cc94row8_col7\" class=\"data row8 col7\" >0</td> \n",
       "        <td id=\"T_041b11fa_88f2_11e9_a35f_61f2d459cc94row8_col8\" class=\"data row8 col8\" >0</td> \n",
       "        <td id=\"T_041b11fa_88f2_11e9_a35f_61f2d459cc94row8_col9\" class=\"data row8 col9\" >0</td> \n",
       "    </tr>    <tr> \n",
       "        <th id=\"T_041b11fa_88f2_11e9_a35f_61f2d459cc94level0_row9\" class=\"row_heading level0 row9\" >urami</th> \n",
       "        <td id=\"T_041b11fa_88f2_11e9_a35f_61f2d459cc94row9_col0\" class=\"data row9 col0\" >0</td> \n",
       "        <td id=\"T_041b11fa_88f2_11e9_a35f_61f2d459cc94row9_col1\" class=\"data row9 col1\" >0</td> \n",
       "        <td id=\"T_041b11fa_88f2_11e9_a35f_61f2d459cc94row9_col2\" class=\"data row9 col2\" >0</td> \n",
       "        <td id=\"T_041b11fa_88f2_11e9_a35f_61f2d459cc94row9_col3\" class=\"data row9 col3\" >0</td> \n",
       "        <td id=\"T_041b11fa_88f2_11e9_a35f_61f2d459cc94row9_col4\" class=\"data row9 col4\" >0</td> \n",
       "        <td id=\"T_041b11fa_88f2_11e9_a35f_61f2d459cc94row9_col5\" class=\"data row9 col5\" >0</td> \n",
       "        <td id=\"T_041b11fa_88f2_11e9_a35f_61f2d459cc94row9_col6\" class=\"data row9 col6\" >0</td> \n",
       "        <td id=\"T_041b11fa_88f2_11e9_a35f_61f2d459cc94row9_col7\" class=\"data row9 col7\" >0</td> \n",
       "        <td id=\"T_041b11fa_88f2_11e9_a35f_61f2d459cc94row9_col8\" class=\"data row9 col8\" >0</td> \n",
       "        <td id=\"T_041b11fa_88f2_11e9_a35f_61f2d459cc94row9_col9\" class=\"data row9 col9\" >0</td> \n",
       "    </tr></tbody> \n",
       "</table> "
      ],
      "text/plain": [
       "<pandas.io.formats.style.Styler at 0x7f88eecc9668>"
      ]
     },
     "execution_count": 56,
     "metadata": {},
     "output_type": "execute_result"
    }
   ],
   "source": [
    "test = interactions_full_all.loc[interactions_full_all.index.isin(users), interactions_full_all.columns.isin(items)]\n",
    "test.style.applymap(_color_red_or_green)"
   ]
  },
  {
   "cell_type": "code",
   "execution_count": 3,
   "metadata": {},
   "outputs": [],
   "source": [
    "interactions_full_all = create_interaction_matrix(df = user_top_games,\n",
    "                                             user_col = 'user',\n",
    "                                             item_col = 'item',\n",
    "                                             rating_col = 'rating',\n",
    "                                             threshold = '1')"
   ]
  },
  {
   "cell_type": "code",
   "execution_count": 4,
   "metadata": {},
   "outputs": [],
   "source": [
    "interactions_full_filtered_hours = create_interaction_matrix(df = user_top_games_filtered_hours,\n",
    "                                                             user_col = 'user',\n",
    "                                                             item_col = 'item',\n",
    "                                                             rating_col = 'rating',\n",
    "                                                             threshold = '1')"
   ]
  },
  {
   "cell_type": "code",
   "execution_count": 5,
   "metadata": {},
   "outputs": [],
   "source": [
    "interactions_full_filtered_percentile = create_interaction_matrix(df = user_top_games_filtered_percentile,\n",
    "                                                                 user_col = 'user',\n",
    "                                                                 item_col = 'item',\n",
    "                                                                 rating_col = 'rating',\n",
    "                                                                 threshold = '1')"
   ]
  },
  {
   "cell_type": "code",
   "execution_count": 18,
   "metadata": {},
   "outputs": [],
   "source": [
    "user_dict = create_user_dict(interactions=interactions_full_filtered_percentile)\n",
    "games_dict = create_item_dict(df=games, id_col='item', name_col='item')"
   ]
  },
  {
   "cell_type": "code",
   "execution_count": 7,
   "metadata": {},
   "outputs": [],
   "source": [
    "## create sparse matrices from interactions\n",
    "sparse_train = sparse.csr_matrix(interactions_full_all.values)\n",
    "sparse_train_filtered_hours = sparse.csr_matrix(interactions_full_filtered_hours.values)\n",
    "sparse_train_filtered_percentile = sparse.csr_matrix(interactions_full_filtered_percentile.values)"
   ]
  },
  {
   "cell_type": "markdown",
   "metadata": {},
   "source": [
    "# Model Training"
   ]
  },
  {
   "cell_type": "markdown",
   "metadata": {},
   "source": [
    "### Model 1 - All interactions trained"
   ]
  },
  {
   "cell_type": "code",
   "execution_count": 20,
   "metadata": {},
   "outputs": [
    {
     "name": "stdout",
     "output_type": "stream",
     "text": [
      "Time taken for model train: 40.51724934577942\n"
     ]
    }
   ],
   "source": [
    "best_parameters = query_best_parameters('sqlalchemy_conn_str.txt')\n",
    "model_1 = LightFM(**best_parameters)\n",
    "start_time = time.time()\n",
    "model_1.fit(sparse_train,\n",
    "            epochs=15,\n",
    "            num_threads=20)\n",
    "end_time = time.time()\n",
    "print('Time taken for model train: {}'.format(str(end_time-start_time)))"
   ]
  },
  {
   "cell_type": "code",
   "execution_count": 22,
   "metadata": {},
   "outputs": [
    {
     "name": "stdout",
     "output_type": "stream",
     "text": [
      "AUC: train 0.858\n"
     ]
    }
   ],
   "source": [
    "train_auc = auc_score(model_1, sparse_train_all, num_threads=8).mean()\n",
    "print('AUC: train %.3f' % (train_auc))"
   ]
  },
  {
   "cell_type": "markdown",
   "metadata": {},
   "source": [
    "### Model 3 - Only interactions with at least 30 minutes played"
   ]
  },
  {
   "cell_type": "code",
   "execution_count": 23,
   "metadata": {},
   "outputs": [
    {
     "name": "stdout",
     "output_type": "stream",
     "text": [
      "Time taken for model train: 18.25357723236084\n"
     ]
    }
   ],
   "source": [
    "best_parameters = query_best_parameters('sqlalchemy_conn_str.txt')\n",
    "model_3 = LightFM(**best_parameters)\n",
    "start_time = time.time()\n",
    "model_3.fit(sparse_train_filtered_hours,\n",
    "            epochs=15,\n",
    "            num_threads=20)\n",
    "end_time = time.time()\n",
    "print('Time taken for model train: {}'.format(str(end_time-start_time)))"
   ]
  },
  {
   "cell_type": "code",
   "execution_count": 24,
   "metadata": {},
   "outputs": [
    {
     "name": "stdout",
     "output_type": "stream",
     "text": [
      "AUC: train 0.905\n"
     ]
    }
   ],
   "source": [
    "train_auc = auc_score(model_3, sparse_train_filtered_hours).mean()\n",
    "print('AUC: train %.3f' % (train_auc))"
   ]
  },
  {
   "cell_type": "markdown",
   "metadata": {},
   "source": [
    "### Model 4 - Only interactions greater than 10th percentile of hours played"
   ]
  },
  {
   "cell_type": "code",
   "execution_count": 9,
   "metadata": {},
   "outputs": [
    {
     "name": "stdout",
     "output_type": "stream",
     "text": [
      "Time taken for model train: 16.19506573677063\n"
     ]
    }
   ],
   "source": [
    "best_parameters = query_best_parameters('sqlalchemy_conn_str.txt')\n",
    "model_4 = LightFM(**best_parameters)\n",
    "start_time = time.time()\n",
    "model_4.fit(sparse_train_filtered_percentile,\n",
    "            epochs=15,\n",
    "            num_threads=20)\n",
    "end_time = time.time()\n",
    "print('Time taken for model train: {}'.format(str(end_time-start_time)))"
   ]
  },
  {
   "cell_type": "code",
   "execution_count": 10,
   "metadata": {},
   "outputs": [
    {
     "name": "stdout",
     "output_type": "stream",
     "text": [
      "AUC: train 0.957\n"
     ]
    }
   ],
   "source": [
    "train_auc = auc_score(model_4, sparse_train_filtered_percentile).mean()\n",
    "print('AUC: train %.3f' % (train_auc))"
   ]
  },
  {
   "cell_type": "markdown",
   "metadata": {},
   "source": [
    "# Output results"
   ]
  },
  {
   "cell_type": "markdown",
   "metadata": {},
   "source": [
    "### Model 4"
   ]
  },
  {
   "cell_type": "code",
   "execution_count": 19,
   "metadata": {},
   "outputs": [],
   "source": [
    "item_item_dict = {}\n",
    "item_item_dist_4 = create_item_emdedding_distance_matrix(model = model_4, interactions = interactions_full_all)\n",
    "for i in games['item']:\n",
    "    item_item_list_4 = item_item_recommendation(item_emdedding_distance_matrix = item_item_dist_4,\n",
    "                                    item_id = i,\n",
    "                                    item_dict = games_dict,\n",
    "                                    n_items = 20,\n",
    "                                    show = False)\n",
    "    item_item_dict[i] = item_item_list_4"
   ]
  },
  {
   "cell_type": "code",
   "execution_count": 20,
   "metadata": {},
   "outputs": [],
   "source": [
    "user_item_dict = {}\n",
    "for i in user_dict.keys():\n",
    "    user_item_list_4 = sample_recommendation_user(model = model_4,\n",
    "                                                interactions = interactions_full_all,\n",
    "                                                user_id = i,\n",
    "                                                user_dict = user_dict,\n",
    "                                                item_dict = games_dict,\n",
    "                                                nrec_items = 20,\n",
    "                                                num_threads = 30,\n",
    "                                                show = False)\n",
    "    user_item_dict[i] = user_item_list_4"
   ]
  },
  {
   "cell_type": "code",
   "execution_count": 21,
   "metadata": {},
   "outputs": [],
   "source": [
    "json.dump(item_item_dict,open('item_item_dict.json','w'))\n",
    "json.dump(user_item_dict,open('user_item_dict.json','w'))"
   ]
  },
  {
   "cell_type": "markdown",
   "metadata": {},
   "source": [
    "### Combined Model (scrapped idea)"
   ]
  },
  {
   "cell_type": "code",
   "execution_count": 176,
   "metadata": {},
   "outputs": [],
   "source": [
    "def combine_model(user_id, model_1, model_2, top_n=20, weight=0.5):\n",
    "    # Build ranked list for model_1 and model_2\n",
    "    user_item_list_1 = sample_recommendation_user(model = model_1,\n",
    "                                                    interactions = interactions_train_all,\n",
    "                                                    user_id = user_id,\n",
    "                                                    user_dict = user_dict,\n",
    "                                                    item_dict = games_dict,\n",
    "                                                    nrec_items = 1000,\n",
    "                                                    show = False)\n",
    "    user_item_list_2 = sample_recommendation_user(model = model_2,\n",
    "                                                    interactions = interactions_train_all,\n",
    "                                                    user_id = user_id,\n",
    "                                                    user_dict = user_dict,\n",
    "                                                    item_dict = games_dict,\n",
    "                                                    nrec_items = 1000,\n",
    "                                                    show = False)\n",
    "    \n",
    "    # Add ranked column\n",
    "    user_item_df_1 = pd.DataFrame(user_item_list_1, columns=['game','score'])\n",
    "    user_item_df_1['rank'] = user_item_df_1.index    \n",
    "    user_item_df_2 = pd.DataFrame(user_item_list_2, columns=['game','score'])\n",
    "    user_item_df_2['rank'] = user_item_df_2.index\n",
    "    # Merge, rerank, output\n",
    "    merged_df = user_item_df_1.merge(user_item_df_2, left_on='game', right_on='game')\n",
    "    merged_df['new_rank'] = (weight*merged_df['rank_x']+(1-weight)*merged_df['rank_y'])/2\n",
    "    merged_df.sort_values(['new_rank','rank_x'], inplace=True)\n",
    "    return merged_df['game'].values.tolist()[0:top_n]"
   ]
  },
  {
   "cell_type": "code",
   "execution_count": 177,
   "metadata": {},
   "outputs": [
    {
     "data": {
      "text/plain": [
       "['Counter-Strike: Global Offensive',\n",
       " 'Portal 2',\n",
       " 'PAYDAY 2',\n",
       " 'The Elder Scrolls V: Skyrim',\n",
       " 'Borderlands 2',\n",
       " 'Portal',\n",
       " 'Just Cause 2',\n",
       " 'PlanetSide 2',\n",
       " 'Warframe',\n",
       " 'Arma 2',\n",
       " 'Saints Row: The Third',\n",
       " 'Rust',\n",
       " 'PAYDAY: The Heist',\n",
       " \"Sid Meier's Civilization V\",\n",
       " 'Arma 2: Operation Arrowhead',\n",
       " 'Killing Floor',\n",
       " 'Heroes & Generals',\n",
       " 'War Thunder',\n",
       " 'Fallout: New Vegas',\n",
       " 'Loadout']"
      ]
     },
     "execution_count": 177,
     "metadata": {},
     "output_type": "execute_result"
    }
   ],
   "source": [
    "combine_model('76561198071544284',model_1,model_2)"
   ]
  }
 ],
 "metadata": {
  "anaconda-cloud": {},
  "kernelspec": {
   "display_name": "Python 3",
   "language": "python",
   "name": "python3"
  },
  "language_info": {
   "codemirror_mode": {
    "name": "ipython",
    "version": 3
   },
   "file_extension": ".py",
   "mimetype": "text/x-python",
   "name": "python",
   "nbconvert_exporter": "python",
   "pygments_lexer": "ipython3",
   "version": "3.7.1"
  }
 },
 "nbformat": 4,
 "nbformat_minor": 2
}
